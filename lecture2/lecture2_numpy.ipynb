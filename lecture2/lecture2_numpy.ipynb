{
 "cells": [
  {
   "cell_type": "markdown",
   "metadata": {},
   "source": [
    "# Introduction to the Numpy Library\n",
    "\n",
    "In this lecture we will be looking into numerical python library Numpy"
   ]
  },
  {
   "cell_type": "markdown",
   "metadata": {},
   "source": [
    "## What is Numpy ?\n",
    "\n",
    "Numpy is a core python package for scientific computing that \n",
    "\n",
    " * provide a powerful N-dimensional array object\n",
    " * highly optimised linear algebra tools\n",
    " * very close integration with C/C++ and Fortan code\n",
    " * licensed under a BSD license (free to use)\n",
    " \n",
    " \n",
    "## Importing the Numpy\n",
    "\n",
    "The most conventional approach used is\n",
    "\n"
   ]
  },
  {
   "cell_type": "code",
   "execution_count": 2,
   "metadata": {},
   "outputs": [],
   "source": [
    "import numpy as np   # just hit shift+enter to run a cell in notebook!"
   ]
  },
  {
   "cell_type": "markdown",
   "metadata": {},
   "source": [
    "In the above statement, the python keyword 'as' allows us to use 'np' as a shorthand to refer to the 'numpy' module."
   ]
  },
  {
   "cell_type": "code",
   "execution_count": 3,
   "metadata": {},
   "outputs": [],
   "source": [
    "# You will also frequenty see the following statement\n",
    "\n",
    "import matplotlib.pyplot as plt\n",
    "\n",
    "# this allows the alias 'plt' to now access plotting libraries wrapped inside pyplt!"
   ]
  },
  {
   "cell_type": "markdown",
   "metadata": {},
   "source": [
    "## Generating a numpy array\n",
    "\n",
    "There are several ways to generate a numpy array. \n",
    " * It could be generated from a python lists containing numeric data\n",
    " * using numpy array generating functions\n",
    " * reading numeric data from a file\n",
    " \n",
    "Numpy represents N-dimensional array as type 'numpy.ndarray'"
   ]
  },
  {
   "cell_type": "markdown",
   "metadata": {},
   "source": [
    "## Creating array from lists"
   ]
  },
  {
   "cell_type": "code",
   "execution_count": 4,
   "metadata": {},
   "outputs": [
    {
     "name": "stdout",
     "output_type": "stream",
     "text": [
      "[1 2 3 4 5]\n",
      "<class 'numpy.ndarray'>\n"
     ]
    }
   ],
   "source": [
    "data_list = [1,2,3,4,5]\n",
    "array_1D = np.array(data_list)\n",
    "\n",
    "print(array_1D)            # [1 2 3 4 5]\n",
    "print(type(array_1D))      # <class 'numpy.ndarray'>"
   ]
  },
  {
   "cell_type": "code",
   "execution_count": 5,
   "metadata": {},
   "outputs": [
    {
     "name": "stdout",
     "output_type": "stream",
     "text": [
      "[[1 2 3]\n",
      " [4 5 6]\n",
      " [7 8 9]]\n",
      "<class 'numpy.ndarray'>\n"
     ]
    }
   ],
   "source": [
    "my_2d_array = np.array([[1, 2, 3], [4, 5, 6], [7, 8, 9]])\n",
    "\n",
    "print(my_2d_array)\n",
    "print(type(my_2d_array))"
   ]
  },
  {
   "cell_type": "markdown",
   "metadata": {},
   "source": [
    "## The ndarray object’s properties\n",
    "\n",
    "The ndarray has various properties that we can access, for example using above my_2d_array we can see:\n",
    " "
   ]
  },
  {
   "cell_type": "code",
   "execution_count": 6,
   "metadata": {},
   "outputs": [
    {
     "name": "stdout",
     "output_type": "stream",
     "text": [
      "(3, 3)\n"
     ]
    }
   ],
   "source": [
    "print(my_2d_array.shape)   # the shape of a numpy array "
   ]
  },
  {
   "cell_type": "code",
   "execution_count": 7,
   "metadata": {},
   "outputs": [
    {
     "name": "stdout",
     "output_type": "stream",
     "text": [
      "9\n"
     ]
    }
   ],
   "source": [
    "print(my_2d_array.size)    # the size of a numpy array\n",
    "                           # returns total number of elements"
   ]
  },
  {
   "cell_type": "code",
   "execution_count": 8,
   "metadata": {},
   "outputs": [
    {
     "name": "stdout",
     "output_type": "stream",
     "text": [
      "int64\n"
     ]
    }
   ],
   "source": [
    "print(my_2d_array.dtype)   # Print the type of data the array holds \n",
    "                           # (eg: int64, float64 etc)"
   ]
  },
  {
   "cell_type": "markdown",
   "metadata": {},
   "source": [
    "## N-dimensional arrays\n",
    "\n",
    "Note, numpy generalises arrays to be N-dimensional\n"
   ]
  },
  {
   "cell_type": "code",
   "execution_count": 9,
   "metadata": {},
   "outputs": [
    {
     "name": "stdout",
     "output_type": "stream",
     "text": [
      "(2, 2)\n",
      "(2, 2, 2)\n"
     ]
    }
   ],
   "source": [
    "x2 = np.array([[1,2], [3, 4]])       # a matrix \n",
    "print(x2.shape)                      # (2, 2)\n",
    "\n",
    "x3 = np.array([x2, x2])              # stacking two matrices\n",
    "print(x3.shape)                      # (2, 2, 2)"
   ]
  },
  {
   "cell_type": "code",
   "execution_count": 10,
   "metadata": {},
   "outputs": [
    {
     "name": "stdout",
     "output_type": "stream",
     "text": [
      "(5, 2, 2, 2)\n",
      "(2, 5, 2, 2, 2)\n"
     ]
    }
   ],
   "source": [
    "x4 = np.array([x3, x3, x3, x3, x3])  # stacking 5 3-D structures\n",
    "print(x4.shape)                      # (5, 2, 2, 2)\n",
    "#print(x4)\n",
    "   \n",
    "x5 = np.array([x4, x4])              # stacking 2 4-D structures!\n",
    "print(x5.shape)                      # (2, 5, 2, 2, 2)"
   ]
  },
  {
   "cell_type": "markdown",
   "metadata": {},
   "source": [
    "## Array generating functions"
   ]
  },
  {
   "cell_type": "markdown",
   "metadata": {},
   "source": [
    "### 1. arange function"
   ]
  },
  {
   "cell_type": "code",
   "execution_count": 11,
   "metadata": {},
   "outputs": [
    {
     "name": "stdout",
     "output_type": "stream",
     "text": [
      "[0 1 2 3 4 5 6 7 8 9]\n"
     ]
    }
   ],
   "source": [
    "print(np.arange(10))     # generates 10 numbers starting from 0"
   ]
  },
  {
   "cell_type": "code",
   "execution_count": 12,
   "metadata": {},
   "outputs": [
    {
     "name": "stdout",
     "output_type": "stream",
     "text": [
      "[10 11 12 13 14 15 16 17 18 19]\n"
     ]
    }
   ],
   "source": [
    "print(np.arange(10, 20))   # generate number starting from 10 to 20 "
   ]
  },
  {
   "cell_type": "code",
   "execution_count": 13,
   "metadata": {},
   "outputs": [
    {
     "name": "stdout",
     "output_type": "stream",
     "text": [
      "[10 12 14 16 18]\n"
     ]
    }
   ],
   "source": [
    "print(np.arange(10, 20, 2))   # generate number starting from 10 to 20 with step 2"
   ]
  },
  {
   "cell_type": "markdown",
   "metadata": {},
   "source": [
    "### 2.  linspace"
   ]
  },
  {
   "cell_type": "code",
   "execution_count": 14,
   "metadata": {},
   "outputs": [
    {
     "name": "stdout",
     "output_type": "stream",
     "text": [
      "[10.  12.5 15.  17.5 20. ]\n"
     ]
    }
   ],
   "source": [
    "print(np.linspace(10, 20, 5))  # start, stop, n-points"
   ]
  },
  {
   "cell_type": "markdown",
   "metadata": {},
   "source": [
    "### 3. ones and zeros functions"
   ]
  },
  {
   "cell_type": "code",
   "execution_count": 15,
   "metadata": {},
   "outputs": [
    {
     "name": "stdout",
     "output_type": "stream",
     "text": [
      "[[0. 0. 0.]\n",
      " [0. 0. 0.]\n",
      " [0. 0. 0.]]\n"
     ]
    }
   ],
   "source": [
    "print(np.zeros((3, 3)))   # the argument is a tuple !"
   ]
  },
  {
   "cell_type": "code",
   "execution_count": 16,
   "metadata": {},
   "outputs": [
    {
     "name": "stdout",
     "output_type": "stream",
     "text": [
      "[[1. 1. 1.]\n",
      " [1. 1. 1.]\n",
      " [1. 1. 1.]]\n"
     ]
    }
   ],
   "source": [
    "print(np.ones((3, 3)))   # the argument is a tuple !"
   ]
  },
  {
   "cell_type": "markdown",
   "metadata": {},
   "source": [
    "### 4. diagonal and identity matrix"
   ]
  },
  {
   "cell_type": "code",
   "execution_count": 17,
   "metadata": {},
   "outputs": [
    {
     "name": "stdout",
     "output_type": "stream",
     "text": [
      "[[4 0 0]\n",
      " [0 5 0]\n",
      " [0 0 3]]\n"
     ]
    }
   ],
   "source": [
    "print(np.diag((4,5,3)))  # generate diagonal matrix"
   ]
  },
  {
   "cell_type": "code",
   "execution_count": 18,
   "metadata": {},
   "outputs": [
    {
     "name": "stdout",
     "output_type": "stream",
     "text": [
      "[[0 2 0]\n",
      " [0 0 2]\n",
      " [0 0 0]]\n"
     ]
    }
   ],
   "source": [
    "print(np.diag((2,2), k=1))    "
   ]
  },
  {
   "cell_type": "code",
   "execution_count": 19,
   "metadata": {},
   "outputs": [
    {
     "name": "stdout",
     "output_type": "stream",
     "text": [
      "[[1. 0. 0.]\n",
      " [0. 1. 0.]\n",
      " [0. 0. 1.]]\n"
     ]
    }
   ],
   "source": [
    "print(np.eye(3)) # Identity matrix"
   ]
  },
  {
   "cell_type": "markdown",
   "metadata": {},
   "source": [
    "## 5. Random numbers"
   ]
  },
  {
   "cell_type": "markdown",
   "metadata": {},
   "source": [
    "#### Initialise array with random numbers from uniform distribution between 0 and 1\n"
   ]
  },
  {
   "cell_type": "code",
   "execution_count": 20,
   "metadata": {},
   "outputs": [
    {
     "name": "stdout",
     "output_type": "stream",
     "text": [
      "[[0.50242699 0.47454204 0.01740772 0.32686565]\n",
      " [0.53512545 0.00087277 0.00816952 0.84037682]]\n"
     ]
    }
   ],
   "source": [
    "print(np.random.rand(2,4)) # Create an array of the given shape and populate it with random samples \n",
    "                           # from a uniform distribution over [0, 1)"
   ]
  },
  {
   "cell_type": "markdown",
   "metadata": {},
   "source": [
    "#### Initialise array with random numbers from standard normal distribution"
   ]
  },
  {
   "cell_type": "code",
   "execution_count": 21,
   "metadata": {},
   "outputs": [
    {
     "name": "stdout",
     "output_type": "stream",
     "text": [
      "[[ 0.67151915  0.51954706 -0.01560633  0.84285068]\n",
      " [ 0.50219375  0.75089655  0.55199581  1.0536527 ]]\n"
     ]
    }
   ],
   "source": [
    "print(np.random.standard_normal((2,4)))  #Draw samples from a standard Normal distribution (mean=0, stdev=1)"
   ]
  },
  {
   "cell_type": "markdown",
   "metadata": {},
   "source": [
    "#### Initialise array with random integer numbers in a given range"
   ]
  },
  {
   "cell_type": "code",
   "execution_count": 22,
   "metadata": {},
   "outputs": [
    {
     "name": "stdout",
     "output_type": "stream",
     "text": [
      "[99 51 63 56 32 46 91 49 34 18]\n"
     ]
    }
   ],
   "source": [
    "x = np.random.randint(low=1, high=100, size=10)  # give me 10 integer numbers randomly picked\n",
    "print(x)                                         # between low and high variable\n",
    "                                   # Everytime u run this cell u will get different answer       "
   ]
  },
  {
   "cell_type": "markdown",
   "metadata": {},
   "source": [
    "## Reading arrays from files\n",
    "\n",
    " * genfromtxt for reading from a file\n",
    " * savetxt for writing to a text file\n",
    " * load and save function for reading and writing in numpy's .npz format"
   ]
  },
  {
   "cell_type": "markdown",
   "metadata": {},
   "source": [
    "###  reading a csv file"
   ]
  },
  {
   "cell_type": "code",
   "execution_count": 23,
   "metadata": {},
   "outputs": [
    {
     "name": "stdout",
     "output_type": "stream",
     "text": [
      "[[1. 2. 3. 4. 5.]\n",
      " [6. 7. 8. 9. 1.]\n",
      " [3. 2. 4. 6. 7.]\n",
      " [7. 3. 6. 9. 1.]]\n"
     ]
    }
   ],
   "source": [
    "data = np.genfromtxt('testInput.txt', delimiter=',')\n",
    "print(data)"
   ]
  },
  {
   "cell_type": "markdown",
   "metadata": {},
   "source": [
    "### saving a text file"
   ]
  },
  {
   "cell_type": "code",
   "execution_count": 24,
   "metadata": {},
   "outputs": [],
   "source": [
    "np.savetxt('output.csv', data, delimiter=',', fmt='%.5f')"
   ]
  },
  {
   "cell_type": "markdown",
   "metadata": {},
   "source": [
    "### Saving in numpy .npy binary format"
   ]
  },
  {
   "cell_type": "code",
   "execution_count": 25,
   "metadata": {},
   "outputs": [],
   "source": [
    "np.save('output1', data)   # just pass the output file name"
   ]
  },
  {
   "cell_type": "markdown",
   "metadata": {},
   "source": [
    "### Loading numpy .npy binary file"
   ]
  },
  {
   "cell_type": "code",
   "execution_count": 26,
   "metadata": {},
   "outputs": [],
   "source": [
    "read_data = np.load('output1.npy')  # must supply file extension .npy"
   ]
  },
  {
   "cell_type": "code",
   "execution_count": 27,
   "metadata": {},
   "outputs": [],
   "source": [
    "data2= data  # creating copy of array data into data2"
   ]
  },
  {
   "cell_type": "markdown",
   "metadata": {},
   "source": [
    "### Saving numpy arrays in archive form with .npz extension"
   ]
  },
  {
   "cell_type": "code",
   "execution_count": 28,
   "metadata": {},
   "outputs": [],
   "source": [
    "np.savez('output2', data=data, data2=data2)"
   ]
  },
  {
   "cell_type": "markdown",
   "metadata": {},
   "source": [
    "### Loading .npz archive file"
   ]
  },
  {
   "cell_type": "code",
   "execution_count": 29,
   "metadata": {},
   "outputs": [],
   "source": [
    "read_data = np.load('output2.npz')"
   ]
  },
  {
   "cell_type": "code",
   "execution_count": 30,
   "metadata": {},
   "outputs": [
    {
     "name": "stdout",
     "output_type": "stream",
     "text": [
      "['data', 'data2']\n"
     ]
    }
   ],
   "source": [
    "print(read_data.files)    # to view the files in zipped data"
   ]
  },
  {
   "cell_type": "code",
   "execution_count": 31,
   "metadata": {},
   "outputs": [
    {
     "name": "stdout",
     "output_type": "stream",
     "text": [
      "[[1. 2. 3. 4. 5.]\n",
      " [6. 7. 8. 9. 1.]\n",
      " [3. 2. 4. 6. 7.]\n",
      " [7. 3. 6. 9. 1.]]\n"
     ]
    }
   ],
   "source": [
    "print(read_data['data'])   # accessing the first part of data"
   ]
  },
  {
   "cell_type": "code",
   "execution_count": 32,
   "metadata": {},
   "outputs": [
    {
     "name": "stdout",
     "output_type": "stream",
     "text": [
      "[[1. 2. 3. 4. 5.]\n",
      " [6. 7. 8. 9. 1.]\n",
      " [3. 2. 4. 6. 7.]\n",
      " [7. 3. 6. 9. 1.]]\n"
     ]
    }
   ],
   "source": [
    "print(read_data['data2'])   # accessing the second file"
   ]
  },
  {
   "cell_type": "markdown",
   "metadata": {},
   "source": [
    "## Array manipulation"
   ]
  },
  {
   "cell_type": "code",
   "execution_count": 33,
   "metadata": {},
   "outputs": [
    {
     "name": "stdout",
     "output_type": "stream",
     "text": [
      "1\n",
      "[3 4 5]\n",
      "[1 2 3 4]\n",
      "[5 6 7]\n"
     ]
    }
   ],
   "source": [
    "x = np.array([1,2,3,4,5,6,7])\n",
    "print (x[0])\n",
    "print (x[2:5])\n",
    "print (x[:4])\n",
    "print (x[4:])\n",
    "\n",
    "#Array indexing is similar to lists but generalised to N-dimensions"
   ]
  },
  {
   "cell_type": "code",
   "execution_count": 34,
   "metadata": {},
   "outputs": [
    {
     "name": "stdout",
     "output_type": "stream",
     "text": [
      "[[1. 1. 1. 1.]\n",
      " [1. 1. 1. 1.]]\n"
     ]
    }
   ],
   "source": [
    "x = np.ones((5,5))\n",
    "print (x[1:3,1:5])"
   ]
  },
  {
   "cell_type": "markdown",
   "metadata": {},
   "source": [
    "### Extracting a row or column vector from a matrix"
   ]
  },
  {
   "cell_type": "code",
   "execution_count": 35,
   "metadata": {},
   "outputs": [],
   "source": [
    "data = np.genfromtxt('testInput.txt', delimiter=',')"
   ]
  },
  {
   "cell_type": "code",
   "execution_count": 36,
   "metadata": {},
   "outputs": [
    {
     "name": "stdout",
     "output_type": "stream",
     "text": [
      "[1. 1. 1. 1. 1.]\n",
      "(5,)\n"
     ]
    }
   ],
   "source": [
    "print (x[2,:])            # extract row 2 (can also write as x[2])\n",
    "print (x[2,:].shape)     "
   ]
  },
  {
   "cell_type": "code",
   "execution_count": 37,
   "metadata": {},
   "outputs": [
    {
     "name": "stdout",
     "output_type": "stream",
     "text": [
      "[1. 1. 1. 1. 1.]\n",
      "(5,)\n"
     ]
    }
   ],
   "source": [
    "print (x[:,2])            # extract column 2\n",
    "print (x[:,2].shape)"
   ]
  },
  {
   "cell_type": "markdown",
   "metadata": {},
   "source": [
    "## Data processing\n",
    "\n",
    "There exists many data processing methods such as min, max, sum, product, mean etc"
   ]
  },
  {
   "cell_type": "code",
   "execution_count": 38,
   "metadata": {},
   "outputs": [],
   "source": [
    "import numpy as np\n",
    "x = np.array([1,2,3,4,5,6])"
   ]
  },
  {
   "cell_type": "code",
   "execution_count": 39,
   "metadata": {},
   "outputs": [
    {
     "name": "stdout",
     "output_type": "stream",
     "text": [
      "1\n",
      "6\n",
      "21\n",
      "720\n",
      "3.5\n",
      "2.9166666666666665\n"
     ]
    }
   ],
   "source": [
    "print(x.min())         # minimum in x, prints 1\n",
    "print(x.max())         # maximum in x, prints 6\n",
    "print(x.sum())         # sum of all elements in x \n",
    "print(x.prod())        # product of all elements in x \n",
    "print(x.mean())        # mean of x\n",
    "print(x.var())         # variance of x"
   ]
  },
  {
   "cell_type": "markdown",
   "metadata": {},
   "source": [
    "Another way of calling these functions would be to use\n",
    " * np.max(array_name)\n",
    " * np.mean(array_name)"
   ]
  },
  {
   "cell_type": "markdown",
   "metadata": {},
   "source": [
    "## On matrices"
   ]
  },
  {
   "cell_type": "code",
   "execution_count": 40,
   "metadata": {},
   "outputs": [],
   "source": [
    "x = np.array([[1,2,3,4,5,6],[3,4,5,6,7,8]])     # 2d Matrix"
   ]
  },
  {
   "cell_type": "code",
   "execution_count": 41,
   "metadata": {},
   "outputs": [
    {
     "name": "stdout",
     "output_type": "stream",
     "text": [
      "1\n",
      "[1 2 3 4 5 6]\n",
      "54\n",
      "[ 4  6  8 10 12 14]\n",
      "4.5\n",
      "[2. 3. 4. 5. 6. 7.]\n"
     ]
    }
   ],
   "source": [
    "print(x.min())           #returns 1\n",
    "print(x.min(axis=0))     #returns [1, 2, 3, 4, 5, 6]\n",
    "                         # axis=0 specifies column\n",
    "    \n",
    "print(x.sum())           # sum of all elements in x\n",
    "print(x.sum(axis=0))     # sum of elements along the column axis\n",
    "\n",
    "print(x.mean())                # mean of x\n",
    "print(x.mean(axis=0))          # mean of x along column axis  "
   ]
  },
  {
   "cell_type": "markdown",
   "metadata": {},
   "source": [
    "## Reshaping and resizing\n",
    "\n",
    "Converting a matrix to vector or vice versa"
   ]
  },
  {
   "cell_type": "code",
   "execution_count": 42,
   "metadata": {},
   "outputs": [
    {
     "name": "stdout",
     "output_type": "stream",
     "text": [
      "[[1 2 3]\n",
      " [4 5 6]\n",
      " [7 8 9]]\n"
     ]
    }
   ],
   "source": [
    "M = np.array([1,2,3,4,5,6,7,8,9]).reshape(3,3)\n",
    "print(M)"
   ]
  },
  {
   "cell_type": "code",
   "execution_count": 43,
   "metadata": {},
   "outputs": [
    {
     "name": "stdout",
     "output_type": "stream",
     "text": [
      "[1 2 3 4 5 6 7 8 9]\n"
     ]
    }
   ],
   "source": [
    "v = M.reshape(9)\n",
    "print(v)"
   ]
  },
  {
   "cell_type": "code",
   "execution_count": 45,
   "metadata": {},
   "outputs": [
    {
     "ename": "ValueError",
     "evalue": "cannot reshape array of size 9 into shape (8,)",
     "output_type": "error",
     "traceback": [
      "\u001b[0;31m---------------------------------------------------------------------------\u001b[0m",
      "\u001b[0;31mValueError\u001b[0m                                Traceback (most recent call last)",
      "\u001b[0;32m<ipython-input-45-0041b283f2f4>\u001b[0m in \u001b[0;36m<module>\u001b[0;34m\u001b[0m\n\u001b[0;32m----> 1\u001b[0;31m \u001b[0mv\u001b[0m \u001b[0;34m=\u001b[0m \u001b[0mM\u001b[0m\u001b[0;34m.\u001b[0m\u001b[0mreshape\u001b[0m\u001b[0;34m(\u001b[0m\u001b[0;36m8\u001b[0m\u001b[0;34m)\u001b[0m \u001b[0;31m# We will get error message. \"The number of elements can’t change\"\u001b[0m\u001b[0;34m\u001b[0m\u001b[0;34m\u001b[0m\u001b[0m\n\u001b[0m",
      "\u001b[0;31mValueError\u001b[0m: cannot reshape array of size 9 into shape (8,)"
     ]
    }
   ],
   "source": [
    "v = M.reshape(8) # We will get error message. \"The number of elements can’t change\""
   ]
  },
  {
   "cell_type": "markdown",
   "metadata": {},
   "source": [
    "## Adding a new dimension"
   ]
  },
  {
   "cell_type": "code",
   "execution_count": 46,
   "metadata": {},
   "outputs": [
    {
     "name": "stdout",
     "output_type": "stream",
     "text": [
      "[1 2 3 4 5]\n",
      "(5,)\n",
      "[[1 2 3 4 5]]\n",
      "(1, 5)\n",
      "[[1]\n",
      " [2]\n",
      " [3]\n",
      " [4]\n",
      " [5]]\n",
      "(5, 1)\n"
     ]
    }
   ],
   "source": [
    "v = np.array([1,2,3,4,5])\n",
    "print (v)                         # [1 2 3 4 5]\n",
    "print (v.shape)                   # (5,)\n",
    "v_row = v[np.newaxis, :]         \n",
    "print (v_row)                # [[1 2 3 4 5]]  \n",
    "print (v_row.shape)          # turn a vector into a 1-row matrix. Prints (1,5)\n",
    "\n",
    "v_col = v[:, np.newaxis]\n",
    "print(v_col)                     \n",
    "print (v_col.shape)         # turn a vector into a 1-column matrix. Prints (5,1)"
   ]
  },
  {
   "cell_type": "markdown",
   "metadata": {},
   "source": [
    "### Stacking arrays\n",
    "\n",
    "Arrays can be stacked horizontally or vertically. Make sure the dimesions are compatible.\n"
   ]
  },
  {
   "cell_type": "code",
   "execution_count": 47,
   "metadata": {},
   "outputs": [
    {
     "name": "stdout",
     "output_type": "stream",
     "text": [
      "[[1. 1. 1. 0. 0. 1. 1. 1.]\n",
      " [1. 1. 1. 0. 0. 1. 1. 1.]]\n",
      "(2, 8)\n"
     ]
    }
   ],
   "source": [
    "x = np.ones((2,3))\n",
    "y = np.zeros((2,2))\n",
    "\n",
    "z = np.hstack((x, y, x))       # Horizontally stacking the arrays.\n",
    "                               # Arrays are passed as a tuple\n",
    "print (z)\n",
    "print (z.shape)\n"
   ]
  },
  {
   "cell_type": "code",
   "execution_count": 48,
   "metadata": {},
   "outputs": [
    {
     "name": "stdout",
     "output_type": "stream",
     "text": [
      "[[1. 1.]\n",
      " [1. 1.]\n",
      " [0. 0.]]\n",
      "(3, 2)\n"
     ]
    }
   ],
   "source": [
    "x = np.ones((2,2))\n",
    "y = np.zeros((1,2))\n",
    "\n",
    "z = np.vstack((x,y))     # Vertically stacking the arrays\n",
    "print (z)\n",
    "print (z.shape)"
   ]
  },
  {
   "cell_type": "markdown",
   "metadata": {},
   "source": [
    "## Duplicating array using tile and repeat"
   ]
  },
  {
   "cell_type": "code",
   "execution_count": 52,
   "metadata": {},
   "outputs": [
    {
     "name": "stdout",
     "output_type": "stream",
     "text": [
      "**************\n",
      "Array x is:  [[1 2]\n",
      " [3 4]]\n",
      "**************\n",
      "[[1 2 1 2 1 2]\n",
      " [3 4 3 4 3 4]]\n",
      "[[1 2 1 2 1 2 1 2]\n",
      " [3 4 3 4 3 4 3 4]\n",
      " [1 2 1 2 1 2 1 2]\n",
      " [3 4 3 4 3 4 3 4]]\n"
     ]
    }
   ],
   "source": [
    "x = np.array([[1,2],[3,4]])\n",
    "\n",
    "print('**************')\n",
    "print('Array x is: ', x)\n",
    "print('**************')\n",
    "\n",
    "y = np.tile(x, 3)         # repeat x three times\n",
    "print(y)\n",
    "\n",
    "z=np.tile(x, (2,4))       # repeat x (2,4) times\n",
    "print(z)"
   ]
  },
  {
   "cell_type": "code",
   "execution_count": 53,
   "metadata": {},
   "outputs": [
    {
     "name": "stdout",
     "output_type": "stream",
     "text": [
      "[1 1 1 1 2 2 2 2 3 3 3 3 4 4 4 4]\n",
      "*************\n",
      "[[1 1 1 1 2 2 2 2]\n",
      " [3 3 3 3 4 4 4 4]]\n"
     ]
    }
   ],
   "source": [
    "a=np.repeat(x, 4)            # repeat each element 4 times. Does not preserve the shape/dimension\n",
    "print(a)\n",
    "print('*************')\n",
    "\n",
    "b=np.repeat(x, 4, axis=1)    # repeat each element 4 times preserving dimension \n",
    "print(b)"
   ]
  },
  {
   "cell_type": "markdown",
   "metadata": {},
   "source": [
    "## Copying in python\n",
    "\n",
    "By default, arrays in python are handled by reference. This means that when you do A=B you are just copying a reference, not the data itself. Therefore any changes you make on B will actually reflect on A.\n"
   ]
  },
  {
   "cell_type": "code",
   "execution_count": 54,
   "metadata": {},
   "outputs": [
    {
     "name": "stdout",
     "output_type": "stream",
     "text": [
      "[10  2  3  4  5  6]\n"
     ]
    }
   ],
   "source": [
    "A = np.array([1,2,3,4,5,6])\n",
    "B = A\n",
    "B[0] = 10\n",
    "print(A)"
   ]
  },
  {
   "cell_type": "markdown",
   "metadata": {},
   "source": [
    "Note, this is also true for Python lists and objects in general"
   ]
  },
  {
   "cell_type": "code",
   "execution_count": 55,
   "metadata": {},
   "outputs": [
    {
     "name": "stdout",
     "output_type": "stream",
     "text": [
      "[10, 2, 3, 4]\n"
     ]
    }
   ],
   "source": [
    "A = [1,2,3,4]\n",
    "B = A\n",
    "B[0] = 10\n",
    "print(A)"
   ]
  },
  {
   "cell_type": "markdown",
   "metadata": {},
   "source": [
    "## Deep copy using the copy() method\n",
    "\n",
    "To actually copy the data stored in the array we use the numpy copy method,"
   ]
  },
  {
   "cell_type": "code",
   "execution_count": 56,
   "metadata": {},
   "outputs": [
    {
     "name": "stdout",
     "output_type": "stream",
     "text": [
      "[1 2 3 4]\n"
     ]
    }
   ],
   "source": [
    "A = np.array([1, 2, 3, 4])\n",
    "B = A.copy()                     # can also write, B = np.copy(A)\n",
    "\n",
    "B[0] = 10\n",
    "print(A)"
   ]
  },
  {
   "cell_type": "markdown",
   "metadata": {},
   "source": [
    "To copy Python lists we first need to import the copy module,"
   ]
  },
  {
   "cell_type": "code",
   "execution_count": 57,
   "metadata": {},
   "outputs": [
    {
     "name": "stdout",
     "output_type": "stream",
     "text": [
      "[1, 2, 3, 4]\n"
     ]
    }
   ],
   "source": [
    "import copy\n",
    "A = [1,2,3,4]\n",
    "B = copy.deepcopy(A)\n",
    "print(B)\n",
    "\n",
    "# Its easy to get confused with numpy arrays and lists. Careful !!"
   ]
  },
  {
   "cell_type": "markdown",
   "metadata": {},
   "source": [
    "## Operations in Matrix\n",
    "\n",
    "Numpy supports different array operations such as \n",
    " * addition, subtraction, multiplication, division\n",
    " * transpose, inverse etc"
   ]
  },
  {
   "cell_type": "markdown",
   "metadata": {},
   "source": [
    "### Array addition and substraction"
   ]
  },
  {
   "cell_type": "code",
   "execution_count": 58,
   "metadata": {},
   "outputs": [
    {
     "name": "stdout",
     "output_type": "stream",
     "text": [
      "[[2. 3. 4.]\n",
      " [5. 6. 7.]]\n",
      "[[-1.  0.  1.]\n",
      " [ 2.  3.  4.]]\n",
      "[[3 4 5]\n",
      " [6 7 8]]\n"
     ]
    }
   ],
   "source": [
    "X = np.array([[1, 2, 3], [4, 5, 6]])\n",
    "Y = np.ones((2,3))\n",
    "\n",
    "print(X+Y)                     # Element wise adds X and Y\n",
    "\n",
    "print(X - 2 * Y)                      # Multiply each element of Y by 2 and then subtract \n",
    "                               # with every elements of X\n",
    "\n",
    "# note, scalar multiplication\n",
    "print(X + np.array([[2,2,2],[2,2,2]]))  # perform addition element wise"
   ]
  },
  {
   "cell_type": "markdown",
   "metadata": {},
   "source": [
    "## Broadcasting \n",
    "\n",
    "There might be situations where the dimension of two matrices/arrays are not equal, where we need to copy array to make dimension compatible to execute certain operation. Python provides away to do this automatically throught broadcasting."
   ]
  },
  {
   "cell_type": "code",
   "execution_count": 59,
   "metadata": {},
   "outputs": [
    {
     "name": "stdout",
     "output_type": "stream",
     "text": [
      "[[1 2 3]\n",
      " [4 5 6]]\n",
      "[1 1 1]\n",
      "[[2 3 4]\n",
      " [5 6 7]]\n"
     ]
    }
   ],
   "source": [
    "X = np.array([[1,2,3],[4,5,6]])     # X is a 2d array\n",
    "row = np.array([1,1,1])             # row is a 1d array\n",
    "\n",
    "print(X)\n",
    "print(row)\n",
    "print (X + row)      # Dimension mismatch. Numpy does broadcasting automatically to make row\n",
    "                     # a 2d array"
   ]
  },
  {
   "cell_type": "code",
   "execution_count": 60,
   "metadata": {},
   "outputs": [
    {
     "name": "stdout",
     "output_type": "stream",
     "text": [
      "[1 1]\n",
      "[[2 3 4]\n",
      " [5 6 7]]\n"
     ]
    }
   ],
   "source": [
    "col = np.array([1,1])\n",
    "print(col)\n",
    "print (X + col[:, np.newaxis])"
   ]
  },
  {
   "cell_type": "markdown",
   "metadata": {},
   "source": [
    "## Matrix multiplication\n",
    "\n",
    "### Element wise multiplication"
   ]
  },
  {
   "cell_type": "code",
   "execution_count": 61,
   "metadata": {},
   "outputs": [],
   "source": [
    "A = np.array([[1,2,3],[4,5,6]])\n",
    "B = np.array([[3,3,3],[4,4,4]])"
   ]
  },
  {
   "cell_type": "code",
   "execution_count": 62,
   "metadata": {},
   "outputs": [],
   "source": [
    "C = A * B           # element wise multiplication"
   ]
  },
  {
   "cell_type": "code",
   "execution_count": 63,
   "metadata": {},
   "outputs": [
    {
     "name": "stdout",
     "output_type": "stream",
     "text": [
      "[[ 3  6  9]\n",
      " [16 20 24]]\n"
     ]
    }
   ],
   "source": [
    "print(C)"
   ]
  },
  {
   "cell_type": "markdown",
   "metadata": {},
   "source": [
    "### Standard matrix multiplication"
   ]
  },
  {
   "cell_type": "code",
   "execution_count": 64,
   "metadata": {},
   "outputs": [],
   "source": [
    "D = np.dot(A, B.T)  # A = (2,3), B.T = (3,2)\n",
    "                    # Performs standard matrix multiplication\n",
    "                    # Column of A must equal to Rows of B"
   ]
  },
  {
   "cell_type": "code",
   "execution_count": 65,
   "metadata": {},
   "outputs": [
    {
     "name": "stdout",
     "output_type": "stream",
     "text": [
      "[[18 24]\n",
      " [45 60]]\n"
     ]
    }
   ],
   "source": [
    "print(D)"
   ]
  },
  {
   "cell_type": "markdown",
   "metadata": {},
   "source": [
    "## Transpose\n",
    "\n",
    "Transpose operation alters/swaps the dimension "
   ]
  },
  {
   "cell_type": "code",
   "execution_count": 66,
   "metadata": {},
   "outputs": [
    {
     "name": "stdout",
     "output_type": "stream",
     "text": [
      "[[1 2 3]\n",
      " [4 5 6]]\n",
      "[[1 4]\n",
      " [2 5]\n",
      " [3 6]]\n",
      "(2, 3)\n",
      "(3, 2)\n",
      "[1 2 3 4 5]\n",
      "[1 2 3 4 5]\n",
      "(5,)\n",
      "(5,)\n"
     ]
    }
   ],
   "source": [
    "A = np.array([[1,2,3],[4,5,6]])\n",
    "print(A)\n",
    "\n",
    "print(A.T)        # Take transpose of A. Just use .T\n",
    "                  # Rows of A now becomes columns\n",
    "\n",
    "print(A.shape)     # prints (2,3)\n",
    "print(A.T.shape)   # (3,2)\n",
    "\n",
    "v = np.array([1,2,3,4,5])\n",
    "print(v)\n",
    "\n",
    "print(v.T)\n",
    "\n",
    "# Vectors only have one dimension. Transpose does nothing.\n",
    "print(v.shape)     # prints (5,)\n",
    "print(v.T.shape)   # prints (5,)"
   ]
  },
  {
   "cell_type": "markdown",
   "metadata": {},
   "source": [
    "## Inverse of a matrix\n",
    "\n",
    "linalg submodule of Numpy provides functionalities needed for computing matrix determinant and inverse"
   ]
  },
  {
   "cell_type": "code",
   "execution_count": 67,
   "metadata": {},
   "outputs": [
    {
     "name": "stdout",
     "output_type": "stream",
     "text": [
      "[[2 1]\n",
      " [3 2]]\n",
      "0.9999999999999998\n",
      "[[ 2. -1.]\n",
      " [-3.  2.]]\n"
     ]
    }
   ],
   "source": [
    "A = np.array([[2,1],[3,2]])\n",
    "print(A)\n",
    "\n",
    "det_A = np.linalg.det(A)\n",
    "print(det_A)\n",
    "\n",
    "inv_A = np.linalg.inv(A)\n",
    "print(inv_A)"
   ]
  },
  {
   "cell_type": "markdown",
   "metadata": {},
   "source": [
    "## Summary\n",
    "\n",
    " * Numpy provides tools for numeric computing\n",
    " * With Numpy, Python becomes a usable alternative to MATLAB\n",
    " * Basic type is the ndarray - can represent vectors, matrices etc \n",
    " * Lots of tools for vector and matrix manipulation\n",
    "   * This lecture has only reviewed the most commonly used.\n",
    " * For full documentation see http://docs.scipy.org/doc/numpy/"
   ]
  },
  {
   "cell_type": "code",
   "execution_count": null,
   "metadata": {},
   "outputs": [],
   "source": []
  }
 ],
 "metadata": {
  "kernelspec": {
   "display_name": "Python 3",
   "language": "python",
   "name": "python3"
  },
  "language_info": {
   "codemirror_mode": {
    "name": "ipython",
    "version": 3
   },
   "file_extension": ".py",
   "mimetype": "text/x-python",
   "name": "python",
   "nbconvert_exporter": "python",
   "pygments_lexer": "ipython3",
   "version": "3.7.4"
  }
 },
 "nbformat": 4,
 "nbformat_minor": 2
}
