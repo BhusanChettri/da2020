{
 "metadata": {
  "name": "",
  "signature": "sha256:1f95e537f09b73b6c4928a1720c367705f030df50311d71d0ff58662a9ccea2a"
 },
 "nbformat": 3,
 "nbformat_minor": 0,
 "worksheets": [
  {
   "cells": [
    {
     "cell_type": "markdown",
     "metadata": {},
     "source": [
      "---\n",
      "\n",
      "<br><br><br><br><br><br>\n",
      "\n",
      "# Download all materials here:\n",
      "# http://github.com/jakevdp/sklearn_pycon2015\n",
      "\n",
      "<br><br><br><br><br><br>\n",
      "\n",
      "---"
     ]
    }
   ],
   "metadata": {}
  }
 ]
}