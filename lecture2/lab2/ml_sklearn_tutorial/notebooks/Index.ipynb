{
 "metadata": {
  "name": "",
  "signature": "sha256:842ca31b0a9594987bf29d554b1e6f34c1bd7afaabc83c2367149dceb9fddd5d"
 },
 "nbformat": 3,
 "nbformat_minor": 0,
 "worksheets": [
  {
   "cells": [
    {
     "cell_type": "markdown",
     "metadata": {},
     "source": [
      "# PyCon 2015 Scikit-Learn Tutorial Index\n",
      "\n",
      "This is the main index of the PyCon 2015 Introduction to Scikit-Learn tutorial, presented by [Jake VanderPlas](http://www.vanderplas.com).\n",
      "Please refer to the [github repository](http://github.com/jakevdp/sklearn_pycon2015) for this tutorial for any updates."
     ]
    },
    {
     "cell_type": "markdown",
     "metadata": {},
     "source": [
      "## Tutorial Video\n",
      "\n",
      "All PyCon tutorials are filmed; video of this tutorial is available [here](https://www.youtube.com/watch?v=L7R4HUQ-eQ0)."
     ]
    },
    {
     "cell_type": "code",
     "collapsed": false,
     "input": [
      "from IPython.display import YouTubeVideo\n",
      "YouTubeVideo('L7R4HUQ-eQ0')"
     ],
     "language": "python",
     "metadata": {},
     "outputs": [
      {
       "html": [
        "\n",
        "        <iframe\n",
        "            width=\"400\"\n",
        "            height=300\"\n",
        "            src=\"https://www.youtube.com/embed/L7R4HUQ-eQ0\"\n",
        "            frameborder=\"0\"\n",
        "            allowfullscreen\n",
        "        ></iframe>\n",
        "        "
       ],
       "metadata": {},
       "output_type": "pyout",
       "prompt_number": 1,
       "text": [
        "<IPython.lib.display.YouTubeVideo at 0x1023d5fd0>"
       ]
      }
     ],
     "prompt_number": 1
    },
    {
     "cell_type": "markdown",
     "metadata": {},
     "source": [
      "## Tutorial Notebooks\n",
      "\n",
      "The following links are to notebooks containing the tutorial materials.\n",
      "Note that many of these require files that are in the directory structure of the [github repository](http://github.com/jakevdp/sklearn_pycon2015) in which they are contained.\n",
      "There is not time during the tutorial to cover all of this material, but I left it in in case attendees would like to go deeper on their own.\n",
      "\n",
      "### 1. Preliminaries\n",
      "\n",
      "  + [01-Preliminaries.ipynb](01-Preliminaries.ipynb)\n",
      "  \n",
      "### 2. Introduction to Machine Learning with Scikit-Learn\n",
      "\n",
      "  + [02.1-Machine-Learning-Intro.ipynb](02.1-Machine-Learning-Intro.ipynb)\n",
      "  + [02.2-Basic-Principles.ipynb](02.2-Basic-Principles.ipynb)\n",
      "  \n",
      "### 3. Supervised Learning In-Depth\n",
      "\n",
      "  + [03.1-Classification-SVMs.ipynb](03.1-Classification-SVMs.ipynb)\n",
      "  + [03.2-Regression-Forests.ipynb](03.2-Regression-Forests.ipynb)\n",
      "\n",
      "### 4. Unsupervised Learning In-Depth\n",
      "\n",
      "  + [04.1-Dimensionality-PCA.ipynb](04.1-Dimensionality-PCA.ipynb)\n",
      "  + [04.2-Clustering-KMeans.ipynb](04.2-Clustering-KMeans.ipynb)\n",
      "  + [04.3-Density-GMM.ipynb](04.3-Density-GMM.ipynb)\n",
      "  \n",
      "### 5. Model Validation In-Depth\n",
      "\n",
      "  + [05-Validation.ipynb](05-Validation.ipynb)"
     ]
    }
   ],
   "metadata": {}
  }
 ]
}