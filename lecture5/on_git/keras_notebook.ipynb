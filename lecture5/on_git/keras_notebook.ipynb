{
 "cells": [
  {
   "cell_type": "markdown",
   "metadata": {},
   "source": [
    "# Deep Learning using Keras framework\n",
    "\n",
    "Here we will consider classification problem using two different neural network architecture on the MNIST dataset.\n",
    "\n",
    "\n",
    " * TASK : Multi-class classification (10 different classes of MNIST dataset)\n",
    " * Dataset: MNIST dataset. A dataset of hand written digits from 0 to 9\n",
    " * This dataset comes pre-loaded with keras installation\n",
    "  \n",
    " * MNIST dataset is like \"hello world\" implementation in Machine learning\n",
    " * More details on this: http://yann.lecun.com/exdb/mnist/\n",
    " \n",
    " * Neural networks: Feed forward neual network (FFNN) and Convolutional neural network (CNN)\n",
    "\n",
    "\n"
   ]
  },
  {
   "cell_type": "markdown",
   "metadata": {},
   "source": [
    "## Example1: Feed forward neural network (Multi-layer perceptron)\n"
   ]
  },
  {
   "cell_type": "code",
   "execution_count": 1,
   "metadata": {},
   "outputs": [
    {
     "name": "stderr",
     "output_type": "stream",
     "text": [
      "Using TensorFlow backend.\n"
     ]
    }
   ],
   "source": [
    "# Lets load the necessary libraries first\n",
    "\n",
    "import keras\n",
    "import numpy as np      # keras is loaded with Tensorflow backend (which is the default)"
   ]
  },
  {
   "cell_type": "code",
   "execution_count": 2,
   "metadata": {},
   "outputs": [],
   "source": [
    "# 1. Loading the dataset\n",
    "\n",
    "from keras.datasets import mnist\n",
    "\n",
    "# Use load_data() function to load the data and split it between the training and test sets\n",
    "(x_train, y_train), (x_test, y_test) = mnist.load_data()"
   ]
  },
  {
   "cell_type": "code",
   "execution_count": 3,
   "metadata": {},
   "outputs": [
    {
     "name": "stdout",
     "output_type": "stream",
     "text": [
      "(60000, 28, 28)\n",
      "(60000,)\n",
      "[5 0 4 1 9]\n"
     ]
    }
   ],
   "source": [
    "# Lets look at the shape of the data partitions\n",
    "\n",
    "print(x_train.shape)\n",
    "print(y_train.shape)\n",
    "\n",
    "print(y_train[0:5])\n"
   ]
  },
  {
   "cell_type": "markdown",
   "metadata": {},
   "source": [
    " * From the above, we find that x_train has 60000 records/samples each of shape 28 x 28. In other words, each handwritten sample/digit is of 28x28 dimension\n",
    " * And y_train holds the associated labels: 0 to 9 indicating the digits id\n",
    " "
   ]
  },
  {
   "cell_type": "code",
   "execution_count": 4,
   "metadata": {},
   "outputs": [],
   "source": [
    "# 2. Preparing the data\n",
    "\n",
    "# Since we are using fully connected layers only: we need to convert the image 28x28 dimension into a single\n",
    "# dimensional vector/array. Lets do it using the reshape function of numpy\n",
    "\n",
    "x_train = x_train.reshape(60000, 784)\n",
    "x_test = x_test.reshape(10000, 784)\n",
    "\n",
    "x_train = x_train.astype('float32') # make the datatype to be of floating type\n",
    "x_test = x_test.astype('float32')\n"
   ]
  },
  {
   "cell_type": "code",
   "execution_count": 5,
   "metadata": {},
   "outputs": [
    {
     "name": "stdout",
     "output_type": "stream",
     "text": [
      "255.0\n"
     ]
    }
   ],
   "source": [
    "# Let's look at the maximum element\n",
    "\n",
    "print(np.max(np.max(x_train,axis=0)))"
   ]
  },
  {
   "cell_type": "code",
   "execution_count": 6,
   "metadata": {},
   "outputs": [
    {
     "name": "stdout",
     "output_type": "stream",
     "text": [
      "60000 train samples\n",
      "10000 test samples\n"
     ]
    }
   ],
   "source": [
    "# Data transformation: We normalise the data by scaling them to 0-1 range \n",
    "\n",
    "x_train /= 255     #divide by the maximum element in the dataset (which is 255 as the image is gray scale)\n",
    "x_test /= 255      # pythonic way-every element in this array is divided by 255\n",
    "\n",
    "print(x_train.shape[0], 'train samples')\n",
    "print(x_test.shape[0], 'test samples')"
   ]
  },
  {
   "cell_type": "code",
   "execution_count": 7,
   "metadata": {},
   "outputs": [
    {
     "name": "stdout",
     "output_type": "stream",
     "text": [
      "1.0\n"
     ]
    }
   ],
   "source": [
    "# Now if we check the maximum element - it will be 1\n",
    "\n",
    "print(np.max(np.max(x_train,axis=0))) #the inputs are transformed to 0-1 range"
   ]
  },
  {
   "cell_type": "code",
   "execution_count": 8,
   "metadata": {},
   "outputs": [],
   "source": [
    "# 3. Prepare the class labels\n",
    "\n",
    "num_classes = 10   # we know MNIST has 10 classes (0 to 9)\n",
    "\n",
    "# We convert class vectors to binary class matrices\n",
    "# this is also called one-hot vector representation where only the corresponding class would have a 1 and the \n",
    "# remaining 9 elements would have 0 in this vector representation.\n",
    "\n",
    "# keras provides a handy function to do this: keras.utils.to_categorical()\n",
    "y_train = keras.utils.to_categorical(y_train, num_classes)\n",
    "y_test = keras.utils.to_categorical(y_test, num_classes)"
   ]
  },
  {
   "cell_type": "code",
   "execution_count": 9,
   "metadata": {},
   "outputs": [
    {
     "name": "stdout",
     "output_type": "stream",
     "text": [
      "[[0. 0. 0. 0. 0. 1. 0. 0. 0. 0.]\n",
      " [1. 0. 0. 0. 0. 0. 0. 0. 0. 0.]\n",
      " [0. 0. 0. 0. 1. 0. 0. 0. 0. 0.]\n",
      " [0. 1. 0. 0. 0. 0. 0. 0. 0. 0.]\n",
      " [0. 0. 0. 0. 0. 0. 0. 0. 0. 1.]\n",
      " [0. 0. 1. 0. 0. 0. 0. 0. 0. 0.]\n",
      " [0. 1. 0. 0. 0. 0. 0. 0. 0. 0.]\n",
      " [0. 0. 0. 1. 0. 0. 0. 0. 0. 0.]\n",
      " [0. 1. 0. 0. 0. 0. 0. 0. 0. 0.]\n",
      " [0. 0. 0. 0. 1. 0. 0. 0. 0. 0.]]\n"
     ]
    }
   ],
   "source": [
    "# Lets see how the one-hot vector now looks like\n",
    "\n",
    "print(y_train[0:10])  # printing the first 10 labels"
   ]
  },
  {
   "cell_type": "code",
   "execution_count": 10,
   "metadata": {},
   "outputs": [],
   "source": [
    "# 4. Now its time to define the model/network architecture\n",
    "\n",
    "from keras.models import Sequential       #this tutorial uses Sequential models\n",
    "from keras.layers import Dense, Dropout\n",
    "\n",
    "data_shape = (784,) #as we flatten the 28x28 dimensional image\n",
    "\n",
    "# 1. Create a Sequential model object. Then just keep adding layers\n",
    "model = Sequential() \n",
    "\n",
    "# 2. Add series of layers to create the network. The first layer needs input_shape information.\n",
    "\n",
    "model.add(Dense(512, activation='relu', input_shape=data_shape)) \n",
    "model.add(Dropout(0.2))  \n",
    "model.add(Dense(512, activation='relu')) #\n",
    "model.add(Dropout(0.2))\n",
    "model.add(Dense(num_classes, activation='softmax'))\n",
    "\n",
    "# Dense - fully connected layers\n",
    "# activation - rectified linear unit (relu). Thresholds data/values at 0 if its negative \n",
    "# Dropout(0.2) - drops 20% of the input values randomly, to combat overfitting during training\n",
    "# softmax - outputs probability distribution (0-1) between 10 classes"
   ]
  },
  {
   "cell_type": "code",
   "execution_count": 11,
   "metadata": {},
   "outputs": [
    {
     "name": "stdout",
     "output_type": "stream",
     "text": [
      "Model: \"sequential_1\"\n",
      "_________________________________________________________________\n",
      "Layer (type)                 Output Shape              Param #   \n",
      "=================================================================\n",
      "dense_1 (Dense)              (None, 512)               401920    \n",
      "_________________________________________________________________\n",
      "dropout_1 (Dropout)          (None, 512)               0         \n",
      "_________________________________________________________________\n",
      "dense_2 (Dense)              (None, 512)               262656    \n",
      "_________________________________________________________________\n",
      "dropout_2 (Dropout)          (None, 512)               0         \n",
      "_________________________________________________________________\n",
      "dense_3 (Dense)              (None, 10)                5130      \n",
      "=================================================================\n",
      "Total params: 669,706\n",
      "Trainable params: 669,706\n",
      "Non-trainable params: 0\n",
      "_________________________________________________________________\n"
     ]
    }
   ],
   "source": [
    "# Let us visualise our neural network architecture\n",
    "\n",
    "model.summary()\n"
   ]
  },
  {
   "cell_type": "markdown",
   "metadata": {},
   "source": [
    "#### PS: To learn more \n",
    "\n",
    " * About dropout : http://jmlr.org/papers/volume15/srivastava14a/srivastava14a.pdf\n",
    " * ReLU : https://arxiv.org/pdf/1803.08375.pdf\n"
   ]
  },
  {
   "cell_type": "code",
   "execution_count": 12,
   "metadata": {},
   "outputs": [],
   "source": [
    "# 5. The compilation step: configure our model parameters for training\n",
    "\n",
    "from keras.optimizers import RMSprop  # you have to import the class to use it\n",
    "\n",
    "model.compile(loss='categorical_crossentropy',\n",
    "              optimizer=RMSprop(),\n",
    "              metrics=['accuracy'])"
   ]
  },
  {
   "cell_type": "markdown",
   "metadata": {},
   "source": [
    "We pass three main parameters to the compile function (which are important). These are\n",
    " * loss\n",
    " * optimizer\n",
    " * metrics \n",
    "\n",
    "#### Loss functions\n",
    " * what loss function should be optimised during gradient descent? We chose categorical cross entropy because we are dealing with multi-class classification problem (if it was a binar classification problem, we could have chosen binary crossentropy)\n",
    " * See https://keras.io/losses/\n",
    "\n",
    "#### Keras optimisers\n",
    " * optimiser parameter is used to define the optimiser to be used during training. We chose RMSprop here.\n",
    " * RMSprop is one kind of optimiser that performs stochastic gradient descend to update the model parameters through backpropagation\n",
    " * Keras supports many other optimisers. See here: https://keras.io/optimizers/\n",
    " * PS: ADAM optimiser is often a default choice now adays\n",
    " \n",
    "#### Metrics\n",
    " * parameter we chose to evaluate the performance of our model. In the current setup we use accuracy to judge the model performance.\n",
    " * Details: https://keras.io/metrics/\n",
    "\n",
    "Note: \"A metric function is similar to a loss function, except that the results from evaluating a metric are not used when training the model. You may use any of the loss functions as a metric function.\"\n",
    " \n",
    " "
   ]
  },
  {
   "cell_type": "code",
   "execution_count": 13,
   "metadata": {},
   "outputs": [
    {
     "name": "stdout",
     "output_type": "stream",
     "text": [
      "Train on 60000 samples, validate on 10000 samples\n",
      "Epoch 1/5\n",
      "60000/60000 [==============================] - 12s 202us/step - loss: 0.2457 - accuracy: 0.9245 - val_loss: 0.0984 - val_accuracy: 0.9695\n",
      "Epoch 2/5\n",
      "60000/60000 [==============================] - 11s 181us/step - loss: 0.1013 - accuracy: 0.9697 - val_loss: 0.0828 - val_accuracy: 0.9750\n",
      "Epoch 3/5\n",
      "60000/60000 [==============================] - 8s 140us/step - loss: 0.0729 - accuracy: 0.9785 - val_loss: 0.0795 - val_accuracy: 0.9785\n",
      "Epoch 4/5\n",
      "60000/60000 [==============================] - 8s 134us/step - loss: 0.0584 - accuracy: 0.9827 - val_loss: 0.0826 - val_accuracy: 0.9781\n",
      "Epoch 5/5\n",
      "60000/60000 [==============================] - 8s 140us/step - loss: 0.0494 - accuracy: 0.9855 - val_loss: 0.0717 - val_accuracy: 0.9810\n"
     ]
    }
   ],
   "source": [
    "# 6. Now lets train the model\n",
    "# training a model in keras simply requires calling the fit() function by passing the necessary parameters\n",
    "# just like the way we do in Scikit-Learn framework\n",
    "\n",
    "batch_size = 128\n",
    "num_classes = 10\n",
    "epochs = 5      \n",
    "\n",
    "\n",
    "history = model.fit(x_train, y_train,\n",
    "                    batch_size=batch_size,\n",
    "                    epochs=epochs,\n",
    "                    verbose=1,\n",
    "                    validation_data=(x_test, y_test))\n",
    "\n",
    "# The fit() function returns the training history/logs that we could use later to \n",
    "# analyse training, validation lossess and accuracy\n",
    "\n",
    "# Beware: Depending upon the epochs parameter you specify, the training time may vary"
   ]
  },
  {
   "cell_type": "markdown",
   "metadata": {
    "collapsed": true
   },
   "source": [
    "### Lets plot the training and validation loss using the history object that was returned after model training"
   ]
  },
  {
   "cell_type": "code",
   "execution_count": 14,
   "metadata": {},
   "outputs": [],
   "source": [
    "import matplotlib.pyplot as plt   # we need to import the matplot lib libraries first\n",
    "\n",
    "history_dict = history.history\n",
    "\n",
    "#print(history_dict)"
   ]
  },
  {
   "cell_type": "code",
   "execution_count": 15,
   "metadata": {},
   "outputs": [],
   "source": [
    "# lets extract the training and validation loss\n",
    "\n",
    "train_loss = history_dict['loss']   #'loss' denotes training loss - standard naming convention used by keras\n",
    "val_loss = history_dict['val_loss'] #'val_loss' denotes validation loss"
   ]
  },
  {
   "cell_type": "code",
   "execution_count": 16,
   "metadata": {},
   "outputs": [
    {
     "data": {
      "image/png": "[encoded data removed]",
      "text/plain": [
       "<Figure size 432x288 with 1 Axes>"
      ]
     },
     "metadata": {
      "needs_background": "light"
     },
     "output_type": "display_data"
    }
   ],
   "source": [
    "# We now plot the two loss curves in the same figure\n",
    "\n",
    "plt.plot(train_loss,'bo-',label='Train loss')\n",
    "plt.plot(val_loss,'ro-',label='Val loss')\n",
    "\n",
    "plt.title('Training and validation loss')\n",
    "plt.xlabel('Epochs')\n",
    "plt.ylabel('Loss')\n",
    "\n",
    "plt.legend()\n",
    "plt.show()"
   ]
  },
  {
   "cell_type": "code",
   "execution_count": 17,
   "metadata": {},
   "outputs": [
    {
     "data": {
      "image/png": "[encoded data removed]",
      "text/plain": [
       "<Figure size 432x288 with 1 Axes>"
      ]
     },
     "metadata": {
      "needs_background": "light"
     },
     "output_type": "display_data"
    }
   ],
   "source": [
    "# Now let us also plot the training and validation accuracy\n",
    "\n",
    "train_acc = history_dict['accuracy']\n",
    "val_acc = history_dict['val_accuracy']\n",
    "\n",
    "plt.plot(train_acc,'bo-',label='Train acc')\n",
    "plt.plot(val_acc,'ro-',label='Val acc')\n",
    "\n",
    "plt.title('Training and validation acc')\n",
    "plt.xlabel('Epochs')\n",
    "plt.ylabel('Accuracy')\n",
    "plt.legend()\n",
    "\n",
    "plt.show()"
   ]
  },
  {
   "cell_type": "code",
   "execution_count": 18,
   "metadata": {},
   "outputs": [
    {
     "name": "stdout",
     "output_type": "stream",
     "text": [
      "Test loss: 0.07166362829704521\n",
      "Test accuracy: 0.9810000061988831\n"
     ]
    }
   ],
   "source": [
    "# 7. Finally, we test our model performance on the test data\n",
    "# For this we simly call evaluate() function passing the test data\n",
    "\n",
    "test_loss,test_acc = model.evaluate(x_test, y_test, verbose=0)\n",
    "\n",
    "print('Test loss:', test_loss)\n",
    "print('Test accuracy:', test_acc)\n"
   ]
  },
  {
   "cell_type": "markdown",
   "metadata": {},
   "source": [
    "# Example 2: Convolutional neural network"
   ]
  },
  {
   "cell_type": "code",
   "execution_count": 19,
   "metadata": {},
   "outputs": [
    {
     "name": "stdout",
     "output_type": "stream",
     "text": [
      "Tensorflow backend\n",
      "x_train shape: (60000, 28, 28, 1)\n",
      "60000 train samples\n",
      "10000 test samples\n"
     ]
    }
   ],
   "source": [
    "# Code copied from\n",
    "# https://github.com/keras-team/keras/blob/master/examples/mnist_cnn.py\n",
    "\n",
    "from keras.layers import Dense, Dropout, Flatten\n",
    "from keras.layers import Conv2D, MaxPooling2D\n",
    "from keras import backend as K\n",
    "\n",
    "batch_size = 128\n",
    "num_classes = 10\n",
    "\n",
    "epochs = 5\n",
    "\n",
    "# Define the input shape\n",
    "img_rows, img_cols = 28, 28\n",
    "\n",
    "# Load and split the dataset between train and test sets\n",
    "(x_train, y_train), (x_test, y_test) = mnist.load_data()\n",
    "\n",
    "if K.image_data_format() == 'channels_first':   # format used by other backends:     \n",
    "    x_train = x_train.reshape(x_train.shape[0], 1, img_rows, img_cols)\n",
    "    x_test = x_test.reshape(x_test.shape[0], 1, img_rows, img_cols)\n",
    "    input_shape = (1, img_rows, img_cols)\n",
    "else:\n",
    "    print('Tensorflow backend')\n",
    "    x_train = x_train.reshape(x_train.shape[0], img_rows, img_cols, 1)\n",
    "    x_test = x_test.reshape(x_test.shape[0], img_rows, img_cols, 1)\n",
    "    input_shape = (img_rows, img_cols, 1)\n",
    "\n",
    "x_train = x_train.astype('float32')\n",
    "x_test = x_test.astype('float32')\n",
    "\n",
    "x_train /= 255     # normalisation: scaling the input values to 0-1 range\n",
    "x_test /= 255\n",
    "\n",
    "print('x_train shape:', x_train.shape)\n",
    "print(x_train.shape[0], 'train samples')\n",
    "print(x_test.shape[0], 'test samples')\n",
    "\n",
    "# convert class vectors to binary class matrices\n",
    "y_train = keras.utils.to_categorical(y_train, num_classes)\n",
    "y_test = keras.utils.to_categorical(y_test, num_classes)\n",
    "\n",
    "\n",
    "# Tensorflow backend uses: (Batchsize, height, width, channel) format\n",
    "# Other backends (Theano, CNTK) uses: (Channel, height, width, Batchsize)  format"
   ]
  },
  {
   "cell_type": "code",
   "execution_count": 20,
   "metadata": {},
   "outputs": [],
   "source": [
    "# Build the Convolutional neural network model\n",
    "\n",
    "model = Sequential()\n",
    "\n",
    "# The first conv layer uses 32 feature maps and a filter/kernel of 3x3, followed by ReLU activation\n",
    "model.add(Conv2D(32, kernel_size=(3, 3),\n",
    "                 activation='relu',\n",
    "                 input_shape=input_shape))\n",
    "\n",
    "# The second conv layer uses 64 feature maps and a filter/kernel of 3x3, followed by ReLU activation\n",
    "# This is followed by a max-pooling layer (downsampling the input spatial dimension)\n",
    "model.add(Conv2D(64, (3, 3), activation='relu'))\n",
    "model.add(MaxPooling2D(pool_size=(2, 2)))\n",
    "\n",
    "model.add(Dropout(0.25))\n",
    "model.add(Flatten())                      # converts matrix into a vector (1D shape)\n",
    "model.add(Dense(128, activation='relu'))\n",
    "\n",
    "model.add(Dropout(0.5))\n",
    "model.add(Dense(num_classes, activation='softmax')) # This is the output layer\n",
    "\n",
    "# summary of architecture\n",
    "# Input => Conv+activation => Conv+activation+relu => dropout+flatten+dense+relu => dropout+dense+softmax "
   ]
  },
  {
   "cell_type": "code",
   "execution_count": 21,
   "metadata": {},
   "outputs": [
    {
     "name": "stdout",
     "output_type": "stream",
     "text": [
      "Model: \"sequential_2\"\n",
      "_________________________________________________________________\n",
      "Layer (type)                 Output Shape              Param #   \n",
      "=================================================================\n",
      "conv2d_1 (Conv2D)            (None, 26, 26, 32)        320       \n",
      "_________________________________________________________________\n",
      "conv2d_2 (Conv2D)            (None, 24, 24, 64)        18496     \n",
      "_________________________________________________________________\n",
      "max_pooling2d_1 (MaxPooling2 (None, 12, 12, 64)        0         \n",
      "_________________________________________________________________\n",
      "dropout_3 (Dropout)          (None, 12, 12, 64)        0         \n",
      "_________________________________________________________________\n",
      "flatten_1 (Flatten)          (None, 9216)              0         \n",
      "_________________________________________________________________\n",
      "dense_4 (Dense)              (None, 128)               1179776   \n",
      "_________________________________________________________________\n",
      "dropout_4 (Dropout)          (None, 128)               0         \n",
      "_________________________________________________________________\n",
      "dense_5 (Dense)              (None, 10)                1290      \n",
      "=================================================================\n",
      "Total params: 1,199,882\n",
      "Trainable params: 1,199,882\n",
      "Non-trainable params: 0\n",
      "_________________________________________________________________\n"
     ]
    }
   ],
   "source": [
    "# lets visualise the CNN model\n",
    "model.summary()"
   ]
  },
  {
   "cell_type": "code",
   "execution_count": 22,
   "metadata": {},
   "outputs": [],
   "source": [
    "# Lets configure the model parameters by setting parameters to compile() method\n",
    "\n",
    "model.compile(loss=keras.losses.categorical_crossentropy,\n",
    "              optimizer=keras.optimizers.Adadelta(),\n",
    "              metrics=['accuracy'])\n",
    "\n",
    "# Here we use same categorical crossentropy loss as its a multiclass classification problem\n",
    "# But here we try a different optimiser. We use Adadelta\n",
    "\n",
    "# TIPS: try chaging the optimiser to adam! and see how training and testing results changes\n",
    "\n",
    "# Please be aware that training this CNN may take some time - and you may face issues if your laptop hardware is \n",
    "# old."
   ]
  },
  {
   "cell_type": "code",
   "execution_count": 23,
   "metadata": {},
   "outputs": [
    {
     "name": "stdout",
     "output_type": "stream",
     "text": [
      "Train on 60000 samples, validate on 10000 samples\n",
      "Epoch 1/5\n",
      "60000/60000 [==============================] - 118s 2ms/step - loss: 0.2640 - accuracy: 0.9182 - val_loss: 0.0545 - val_accuracy: 0.9820\n",
      "Epoch 2/5\n",
      "60000/60000 [==============================] - 107s 2ms/step - loss: 0.0898 - accuracy: 0.9735 - val_loss: 0.0401 - val_accuracy: 0.9865\n",
      "Epoch 3/5\n",
      "60000/60000 [==============================] - 101s 2ms/step - loss: 0.0669 - accuracy: 0.9807 - val_loss: 0.0358 - val_accuracy: 0.9887\n",
      "Epoch 4/5\n",
      "60000/60000 [==============================] - 107s 2ms/step - loss: 0.0559 - accuracy: 0.9829 - val_loss: 0.0315 - val_accuracy: 0.9883\n",
      "Epoch 5/5\n",
      "60000/60000 [==============================] - 97s 2ms/step - loss: 0.0470 - accuracy: 0.9859 - val_loss: 0.0287 - val_accuracy: 0.9897\n"
     ]
    },
    {
     "data": {
      "text/plain": [
       "<keras.callbacks.callbacks.History at 0x7f7108173110>"
      ]
     },
     "execution_count": 23,
     "metadata": {},
     "output_type": "execute_result"
    }
   ],
   "source": [
    "# Now we are ready to train the model\n",
    "# Just call the fit() method passing the necessary parameters: data, labels, number of training epochs etc.\n",
    "\n",
    "model.fit(x_train, y_train,\n",
    "          batch_size=batch_size,\n",
    "          epochs=epochs,\n",
    "          verbose=1,\n",
    "          validation_data=(x_test, y_test))"
   ]
  },
  {
   "cell_type": "code",
   "execution_count": 24,
   "metadata": {},
   "outputs": [
    {
     "name": "stdout",
     "output_type": "stream",
     "text": [
      "Test loss: 0.028739621388640082\n",
      "Test accuracy: 0.9897000193595886\n"
     ]
    }
   ],
   "source": [
    "# Finally, evaluate the CNN performance on the test data\n",
    "\n",
    "score = model.evaluate(x_test, y_test, verbose=0)\n",
    "\n",
    "print('Test loss:', score[0])\n",
    "print('Test accuracy:', score[1])"
   ]
  },
  {
   "cell_type": "markdown",
   "metadata": {},
   "source": [
    "# Exercises\n",
    "\n",
    " * Try and see how the performances of these model varies when you run them for a larger epochs (say 10, 15, 20). Please be aware that increasing epochs means it will take more time to finish the training.\n",
    " * Furthermore, change the optimiser to Adam and see how it compares with other optimiser. \n",
    " * See  https://keras.io/optimizers/ for details on other optimisers supported by Keras\n"
   ]
  },
  {
   "cell_type": "markdown",
   "metadata": {},
   "source": [
    "# Examples in Keras github\n",
    "\n",
    "You will find lot of examples of different neural network models along with some renowned pre-trained models in the following github link\n",
    "\n",
    "https://github.com/keras-team/keras/tree/master/examples\n",
    "\n",
    "\n",
    "You can play around with examples and adapt it in your work !"
   ]
  },
  {
   "cell_type": "code",
   "execution_count": null,
   "metadata": {},
   "outputs": [],
   "source": []
  }
 ],
 "metadata": {
  "kernelspec": {
   "display_name": "Python 3",
   "language": "python",
   "name": "python3"
  },
  "language_info": {
   "codemirror_mode": {
    "name": "ipython",
    "version": 3
   },
   "file_extension": ".py",
   "mimetype": "text/x-python",
   "name": "python",
   "nbconvert_exporter": "python",
   "pygments_lexer": "ipython3",
   "version": "3.7.4"
  }
 },
 "nbformat": 4,
 "nbformat_minor": 2
}
