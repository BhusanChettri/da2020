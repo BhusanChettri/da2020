{
 "cells": [
  {
   "cell_type": "markdown",
   "metadata": {},
   "source": [
    "# PANDAS: An open source  Python library to support data analysis\t"
   ]
  },
  {
   "cell_type": "markdown",
   "metadata": {},
   "source": [
    "Introduces two new data structures to Python – \n",
    "\n",
    "      1) Series \n",
    "      2) DataFrames \n",
    "      \n",
    " * Both of these are built on top of NumPy and provides high-performance\n",
    " * easy-to-use data structures and data analysis tools for the python programming language\n"
   ]
  },
  {
   "cell_type": "code",
   "execution_count": 1,
   "metadata": {},
   "outputs": [],
   "source": [
    "# Setting up working environment\n",
    "\n",
    "import pandas as pd\n",
    "import numpy as np\n",
    "import matplotlib.pyplot as plt\n",
    "\n",
    "pd.set_option('max_columns', 50)\n",
    "%matplotlib inline"
   ]
  },
  {
   "cell_type": "markdown",
   "metadata": {},
   "source": [
    "# Series\n",
    " * A Series is a one-dimensional object similar to an array, list, or column in a table.\n",
    " * The system will assign a labelled index to each item in the Series. By default, each item will receive an index label from 0 to N, where N is the length of the Series minus one."
   ]
  },
  {
   "cell_type": "code",
   "execution_count": 2,
   "metadata": {},
   "outputs": [
    {
     "name": "stdout",
     "output_type": "stream",
     "text": [
      "0                7\n",
      "1       Heisenberg\n",
      "2             3.14\n",
      "3      -1789710578\n",
      "4    Happy Eating!\n",
      "dtype: object\n"
     ]
    }
   ],
   "source": [
    "# Example1: creating Series from a list.  \n",
    "\n",
    "s = pd.Series([7, 'Heisenberg', 3.14, -1789710578, 'Happy Eating!'])\n",
    "print(s)                            # prints the following\n"
   ]
  },
  {
   "cell_type": "markdown",
   "metadata": {},
   "source": [
    "## Indexing a series\n",
    "\n",
    " * Alternatively, you can specify an index to use when creating the Series rather than relying on the default ones.\n",
    "\n"
   ]
  },
  {
   "cell_type": "code",
   "execution_count": 3,
   "metadata": {},
   "outputs": [
    {
     "name": "stdout",
     "output_type": "stream",
     "text": [
      "A                7\n",
      "Z       Heisenberg\n",
      "C             3.14\n",
      "Y      -1789710578\n",
      "E    Happy Eating!\n",
      "dtype: object\n"
     ]
    }
   ],
   "source": [
    "s = pd.Series([7, 'Heisenberg', 3.14, -1789710578, 'Happy Eating!'],\n",
    "              index=['A', 'Z', 'C', 'Y', 'E'])\n",
    "\n",
    "print(s)                        # would print details with assigned indexes"
   ]
  },
  {
   "cell_type": "markdown",
   "metadata": {},
   "source": [
    "# Creating a series from a dictionary\n",
    "\n",
    " * The Series constructor can create a dictionary as well, using the keys of the dictionary as its index."
   ]
  },
  {
   "cell_type": "code",
   "execution_count": 4,
   "metadata": {},
   "outputs": [
    {
     "name": "stdout",
     "output_type": "stream",
     "text": [
      "Chicago          1000.0\n",
      "New York         1300.0\n",
      "Portland          900.0\n",
      "San Francisco    1100.0\n",
      "Austin            450.0\n",
      "Boston              NaN\n",
      "dtype: float64\n"
     ]
    }
   ],
   "source": [
    "d = {'Chicago': 1000, 'New York': 1300, 'Portland': 900, 'San Francisco': 1100, 'Austin':  450, 'Boston': None}\n",
    "cities = pd.Series(d)\n",
    "\n",
    "print(cities)                         # would print the following"
   ]
  },
  {
   "cell_type": "markdown",
   "metadata": {},
   "source": [
    "## Selecting members of a series\n",
    "\n",
    " * You can use the index to select specific items from the Series ..."
   ]
  },
  {
   "cell_type": "code",
   "execution_count": 5,
   "metadata": {},
   "outputs": [
    {
     "name": "stdout",
     "output_type": "stream",
     "text": [
      "1000.0\n"
     ]
    }
   ],
   "source": [
    "print(cities['Chicago'])            # Prints the value associated with index Chicago\n",
    "\n",
    "#print(cities['Chicago', 'Portland', 'San Francisco'])   # this will throw error. Cannot access values at\n",
    "                                                         # three index at the same time"
   ]
  },
  {
   "cell_type": "code",
   "execution_count": 6,
   "metadata": {},
   "outputs": [
    {
     "name": "stdout",
     "output_type": "stream",
     "text": [
      "Chicago    1000.0\n",
      "dtype: float64\n",
      "------------------------------\n",
      "Chicago          1000.0\n",
      "Portland          900.0\n",
      "San Francisco    1100.0\n",
      "dtype: float64\n"
     ]
    }
   ],
   "source": [
    "print(cities[['Chicago']])            # We select only one item\n",
    "print('------------------------------')\n",
    "\n",
    "print(cities[['Chicago', 'Portland', 'San Francisco']])   # We select 3 items\n"
   ]
  },
  {
   "cell_type": "markdown",
   "metadata": {},
   "source": [
    "## Using boolean indexing for selection"
   ]
  },
  {
   "cell_type": "code",
   "execution_count": 7,
   "metadata": {},
   "outputs": [
    {
     "name": "stdout",
     "output_type": "stream",
     "text": [
      "Portland    900.0\n",
      "Austin      450.0\n",
      "dtype: float64\n"
     ]
    }
   ],
   "source": [
    "print(cities[cities < 1000])       # shall print all cities with values less than 1000"
   ]
  },
  {
   "cell_type": "markdown",
   "metadata": {},
   "source": [
    "## Changing values using boolean logic"
   ]
  },
  {
   "cell_type": "code",
   "execution_count": 8,
   "metadata": {},
   "outputs": [
    {
     "name": "stdout",
     "output_type": "stream",
     "text": [
      "Portland    750.0\n",
      "Austin      750.0\n",
      "dtype: float64\n"
     ]
    }
   ],
   "source": [
    "cities[cities < 1000] = 750        # change values of cities less than 1000 to 750 \n",
    "print (cities[cities < 1000])          # prints following"
   ]
  },
  {
   "cell_type": "markdown",
   "metadata": {},
   "source": [
    "## Checking if an item is in a series"
   ]
  },
  {
   "cell_type": "code",
   "execution_count": 9,
   "metadata": {},
   "outputs": [
    {
     "name": "stdout",
     "output_type": "stream",
     "text": [
      "False\n",
      "True\n"
     ]
    }
   ],
   "source": [
    "print('Seattle' in cities)              # prints   False\n",
    "print('San Francisco' in cities)        # prints   True"
   ]
  },
  {
   "cell_type": "markdown",
   "metadata": {},
   "source": [
    "## Maths operations on series \n"
   ]
  },
  {
   "cell_type": "code",
   "execution_count": 10,
   "metadata": {},
   "outputs": [
    {
     "data": {
      "text/plain": [
       "Chicago          333.333333\n",
       "New York         433.333333\n",
       "Portland         250.000000\n",
       "San Francisco    366.666667\n",
       "Austin           250.000000\n",
       "Boston                  NaN\n",
       "dtype: float64"
      ]
     },
     "execution_count": 10,
     "metadata": {},
     "output_type": "execute_result"
    }
   ],
   "source": [
    "# a) Using scalar operation\n",
    "\n",
    "cities / 3       # would print "
   ]
  },
  {
   "cell_type": "code",
   "execution_count": 11,
   "metadata": {},
   "outputs": [
    {
     "data": {
      "text/plain": [
       "Chicago          1000000.0\n",
       "New York         1690000.0\n",
       "Portland          562500.0\n",
       "San Francisco    1210000.0\n",
       "Austin            562500.0\n",
       "Boston                 NaN\n",
       "dtype: float64"
      ]
     },
     "execution_count": 11,
     "metadata": {},
     "output_type": "execute_result"
    }
   ],
   "source": [
    "# b) Using math function\n",
    "\n",
    "np.square(cities)      # squares all values of cities\n"
   ]
  },
  {
   "cell_type": "markdown",
   "metadata": {},
   "source": [
    "#### Adding two series together\n",
    "\n",
    " * This returns a union of the two Series with the addition occurring on the shared index values. \n",
    " * Values from either Series that did not have a shared index will produce a NULL/NaN (not a number)\n"
   ]
  },
  {
   "cell_type": "code",
   "execution_count": 12,
   "metadata": {},
   "outputs": [
    {
     "name": "stdout",
     "output_type": "stream",
     "text": [
      "Austin         NaN\n",
      "Chicago        NaN\n",
      "New York    2600.0\n",
      "Portland       NaN\n",
      "dtype: float64\n"
     ]
    }
   ],
   "source": [
    "ser1 = cities[['Chicago', 'New York', 'Portland']]\n",
    "ser2 = cities[['Austin', 'New York']]\n",
    "ser3 = ser1 + ser2\n",
    "print(ser3)              \n",
    "\n",
    "#print(cities[['Chicago', 'New York', 'Portland']] + cities[['Austin', 'New York']])"
   ]
  },
  {
   "cell_type": "markdown",
   "metadata": {},
   "source": [
    "Notice that because Austin, Chicago, and Portland were not found in both Series, they were returned with NULL/NaN values."
   ]
  },
  {
   "cell_type": "markdown",
   "metadata": {},
   "source": [
    "## Checking for nulls\n",
    "\n",
    " * Use isnull and notnull (similar to SQL):"
   ]
  },
  {
   "cell_type": "code",
   "execution_count": 13,
   "metadata": {},
   "outputs": [
    {
     "data": {
      "text/plain": [
       "Chicago           True\n",
       "New York          True\n",
       "Portland          True\n",
       "San Francisco     True\n",
       "Austin            True\n",
       "Boston           False\n",
       "dtype: bool"
      ]
     },
     "execution_count": 13,
     "metadata": {},
     "output_type": "execute_result"
    }
   ],
   "source": [
    "# a. Using notnull()\n",
    "\n",
    "cities.notnull()"
   ]
  },
  {
   "cell_type": "code",
   "execution_count": 14,
   "metadata": {},
   "outputs": [
    {
     "data": {
      "text/plain": [
       "Chicago          False\n",
       "New York         False\n",
       "Portland         False\n",
       "San Francisco    False\n",
       "Austin           False\n",
       "Boston            True\n",
       "dtype: bool"
      ]
     },
     "execution_count": 14,
     "metadata": {},
     "output_type": "execute_result"
    }
   ],
   "source": [
    "# b. Using isnull()\n",
    "\n",
    "cities.isnull()"
   ]
  },
  {
   "cell_type": "code",
   "execution_count": 15,
   "metadata": {},
   "outputs": [
    {
     "name": "stdout",
     "output_type": "stream",
     "text": [
      "Boston   NaN\n",
      "dtype: float64\n"
     ]
    }
   ],
   "source": [
    "# Let us print all those elements with null values \n",
    "\n",
    "print(cities[cities.isnull()])   "
   ]
  },
  {
   "cell_type": "markdown",
   "metadata": {},
   "source": [
    "# DataFrames\n",
    "\n",
    " * A DataFrame is a tabular data structure comprised of rows and columns, akin to a spreadsheet, relational database table, or R's data.frame object. \n",
    " * You can also think of a DataFrame as a group of Series objects that share an index (the column names)."
   ]
  },
  {
   "cell_type": "markdown",
   "metadata": {},
   "source": [
    "## Reading data into a DataFrame\n",
    "\n",
    "\n"
   ]
  },
  {
   "cell_type": "code",
   "execution_count": 16,
   "metadata": {},
   "outputs": [],
   "source": [
    "data = {'year': [2010, 2011, 2012, 2011, 2012, 2010, 2011, 2012],\n",
    "        'team': ['Bears', 'Bears', 'Bears', 'Packers', 'Packers', 'Lions', 'Lions', 'Lions'], \n",
    "        'wins': [11, 8, 10, 15, 11, 6, 10, 4], 'losses': [5, 8, 6, 1, 5, 10, 6, 12]}\n",
    "\n",
    "\n",
    "football = pd.DataFrame(data, columns=['year', 'team', 'wins', 'losses'])\n",
    "\n",
    "#football = pd.DataFrame(data) #even without specifyig explicitly the columns values, pandas automatically \n",
    "# takes keys of the dictionary as column names."
   ]
  },
  {
   "cell_type": "markdown",
   "metadata": {},
   "source": [
    "In the above, \n",
    "\n",
    " * data is a list of dictionary\n",
    " * we create football DataFrame using the list. This produces a table showing wins and losses for a team in different years"
   ]
  },
  {
   "cell_type": "code",
   "execution_count": 17,
   "metadata": {},
   "outputs": [
    {
     "name": "stdout",
     "output_type": "stream",
     "text": [
      "   year     team  wins  losses\n",
      "0  2010    Bears    11       5\n",
      "1  2011    Bears     8       8\n",
      "2  2012    Bears    10       6\n",
      "3  2011  Packers    15       1\n",
      "4  2012  Packers    11       5\n",
      "5  2010    Lions     6      10\n",
      "6  2011    Lions    10       6\n",
      "7  2012    Lions     4      12\n"
     ]
    }
   ],
   "source": [
    "print(football)"
   ]
  },
  {
   "cell_type": "code",
   "execution_count": 18,
   "metadata": {},
   "outputs": [
    {
     "name": "stdout",
     "output_type": "stream",
     "text": [
      "   year     team  wins  losses\n",
      "0  2010    Bears    11       5\n",
      "1  2011    Bears     8       8\n",
      "2  2012    Bears    10       6\n",
      "3  2011  Packers    15       1\n",
      "4  2012  Packers    11       5\n",
      "5  2010    Lions     6      10\n",
      "6  2011    Lions    10       6\n",
      "7  2012    Lions     4      12\n"
     ]
    }
   ],
   "source": [
    "# Lets print the contents of our football dataframe\n",
    "\n",
    "print(football)"
   ]
  },
  {
   "cell_type": "markdown",
   "metadata": {},
   "source": [
    "## Deleting a dataframe\n",
    "\n",
    " * del \"dataframe name\"\n"
   ]
  },
  {
   "cell_type": "code",
   "execution_count": 19,
   "metadata": {},
   "outputs": [],
   "source": [
    "# Example to delete football\n",
    "\n",
    "#del football"
   ]
  },
  {
   "cell_type": "code",
   "execution_count": 20,
   "metadata": {},
   "outputs": [],
   "source": [
    "# print(football)  # Throws following errow message : name 'football' is not defined"
   ]
  },
  {
   "cell_type": "markdown",
   "metadata": {},
   "source": [
    "## Other ways of populating dataframes\n",
    "\n",
    " * Pandas is capable of IO with csv, excel data, hdf, sql, json, msgpack, html, gbq, stata, clipboard, and  pickle data, and the list continues to grow.\n",
    " * Check out the following link: http://pandas.pydata.org/pandas-docs/stable/  for detailed information."
   ]
  },
  {
   "cell_type": "markdown",
   "metadata": {},
   "source": [
    "## I/O with CSV files\n",
    "\n",
    " * To read a CSV file we use the pandas read_csv method. \n",
    " * Suppose we have a CSV file storing average house prices for some geographical area. Let us read the file into a dataframe and print the contents"
   ]
  },
  {
   "cell_type": "code",
   "execution_count": 21,
   "metadata": {},
   "outputs": [
    {
     "name": "stdout",
     "output_type": "stream",
     "text": [
      "         Date   Value\n",
      "0  2015-06-30  502300\n",
      "1  2015-05-31  501500\n",
      "2  2015-04-30  500100\n",
      "3  2015-03-31  495800\n",
      "4  2015-02-28  492700\n"
     ]
    }
   ],
   "source": [
    "df = pd.read_csv('inputs/house_prices.csv')    \n",
    "\n",
    "print(df)\n",
    "#print(df.head())       # prints first few records. Helpful when we deal with large files."
   ]
  },
  {
   "cell_type": "markdown",
   "metadata": {},
   "source": [
    " * By default, read_csv expects a comma separator between fields in the file, but this can be overridden.\n",
    " * Notice the output has default index numbers starting from 0."
   ]
  },
  {
   "cell_type": "code",
   "execution_count": 22,
   "metadata": {},
   "outputs": [],
   "source": [
    "# To write the data out to another file:\n",
    "\n",
    "df.to_csv('house_prices_copy.csv')"
   ]
  },
  {
   "cell_type": "code",
   "execution_count": 23,
   "metadata": {},
   "outputs": [
    {
     "name": "stderr",
     "output_type": "stream",
     "text": [
      "/home/bhusan/anaconda3/lib/python3.7/site-packages/ipykernel_launcher.py:3: FutureWarning: The signature of `Series.to_csv` was aligned to that of `DataFrame.to_csv`, and argument 'header' will change its default value from False to True: please pass an explicit value to suppress this warning.\n",
      "  This is separate from the ipykernel package so we can avoid doing imports until\n"
     ]
    }
   ],
   "source": [
    "# To write out just the values of a certain column:\n",
    "\n",
    "df['Value'].to_csv('house_prices_values.csv')"
   ]
  },
  {
   "cell_type": "code",
   "execution_count": 24,
   "metadata": {},
   "outputs": [],
   "source": [
    "# Lets check the contents of these files\n",
    "\n",
    "df1 = pd.read_csv('house_prices_copy.csv')\n"
   ]
  },
  {
   "cell_type": "code",
   "execution_count": 25,
   "metadata": {},
   "outputs": [
    {
     "data": {
      "text/html": [
       "<div>\n",
       "<style scoped>\n",
       "    .dataframe tbody tr th:only-of-type {\n",
       "        vertical-align: middle;\n",
       "    }\n",
       "\n",
       "    .dataframe tbody tr th {\n",
       "        vertical-align: top;\n",
       "    }\n",
       "\n",
       "    .dataframe thead th {\n",
       "        text-align: right;\n",
       "    }\n",
       "</style>\n",
       "<table border=\"1\" class=\"dataframe\">\n",
       "  <thead>\n",
       "    <tr style=\"text-align: right;\">\n",
       "      <th></th>\n",
       "      <th>Unnamed: 0</th>\n",
       "      <th>Date</th>\n",
       "      <th>Value</th>\n",
       "    </tr>\n",
       "  </thead>\n",
       "  <tbody>\n",
       "    <tr>\n",
       "      <td>0</td>\n",
       "      <td>0</td>\n",
       "      <td>2015-06-30</td>\n",
       "      <td>502300</td>\n",
       "    </tr>\n",
       "    <tr>\n",
       "      <td>1</td>\n",
       "      <td>1</td>\n",
       "      <td>2015-05-31</td>\n",
       "      <td>501500</td>\n",
       "    </tr>\n",
       "    <tr>\n",
       "      <td>2</td>\n",
       "      <td>2</td>\n",
       "      <td>2015-04-30</td>\n",
       "      <td>500100</td>\n",
       "    </tr>\n",
       "    <tr>\n",
       "      <td>3</td>\n",
       "      <td>3</td>\n",
       "      <td>2015-03-31</td>\n",
       "      <td>495800</td>\n",
       "    </tr>\n",
       "    <tr>\n",
       "      <td>4</td>\n",
       "      <td>4</td>\n",
       "      <td>2015-02-28</td>\n",
       "      <td>492700</td>\n",
       "    </tr>\n",
       "  </tbody>\n",
       "</table>\n",
       "</div>"
      ],
      "text/plain": [
       "   Unnamed: 0        Date   Value\n",
       "0           0  2015-06-30  502300\n",
       "1           1  2015-05-31  501500\n",
       "2           2  2015-04-30  500100\n",
       "3           3  2015-03-31  495800\n",
       "4           4  2015-02-28  492700"
      ]
     },
     "execution_count": 25,
     "metadata": {},
     "output_type": "execute_result"
    }
   ],
   "source": [
    "df1"
   ]
  },
  {
   "cell_type": "markdown",
   "metadata": {},
   "source": [
    " * You can set an index to the data in the dataframe on import of the file:"
   ]
  },
  {
   "cell_type": "code",
   "execution_count": 26,
   "metadata": {},
   "outputs": [],
   "source": [
    "# Lets check the contents of these files\n",
    "\n",
    "df2 = pd.read_csv('house_prices_copy.csv', index_col=0) \n",
    "\n",
    "# We have now explicitly specified the first column (of the csv file) as the index, thus the first column of\n",
    "# house_prices_copy.csv that contains index values from 0-4 is chosen as the index\n",
    "# in new data frame object\n",
    "\n",
    "# try commenting out index_col=0, then pandas will use its default indexing\n",
    "# df2 = pd.read_csv('house_prices_copy.csv')   #, index_col=0) "
   ]
  },
  {
   "cell_type": "code",
   "execution_count": 27,
   "metadata": {},
   "outputs": [
    {
     "data": {
      "text/html": [
       "<div>\n",
       "<style scoped>\n",
       "    .dataframe tbody tr th:only-of-type {\n",
       "        vertical-align: middle;\n",
       "    }\n",
       "\n",
       "    .dataframe tbody tr th {\n",
       "        vertical-align: top;\n",
       "    }\n",
       "\n",
       "    .dataframe thead th {\n",
       "        text-align: right;\n",
       "    }\n",
       "</style>\n",
       "<table border=\"1\" class=\"dataframe\">\n",
       "  <thead>\n",
       "    <tr style=\"text-align: right;\">\n",
       "      <th></th>\n",
       "      <th>Date</th>\n",
       "      <th>Value</th>\n",
       "    </tr>\n",
       "  </thead>\n",
       "  <tbody>\n",
       "    <tr>\n",
       "      <td>0</td>\n",
       "      <td>2015-06-30</td>\n",
       "      <td>502300</td>\n",
       "    </tr>\n",
       "    <tr>\n",
       "      <td>1</td>\n",
       "      <td>2015-05-31</td>\n",
       "      <td>501500</td>\n",
       "    </tr>\n",
       "    <tr>\n",
       "      <td>2</td>\n",
       "      <td>2015-04-30</td>\n",
       "      <td>500100</td>\n",
       "    </tr>\n",
       "    <tr>\n",
       "      <td>3</td>\n",
       "      <td>2015-03-31</td>\n",
       "      <td>495800</td>\n",
       "    </tr>\n",
       "    <tr>\n",
       "      <td>4</td>\n",
       "      <td>2015-02-28</td>\n",
       "      <td>492700</td>\n",
       "    </tr>\n",
       "  </tbody>\n",
       "</table>\n",
       "</div>"
      ],
      "text/plain": [
       "         Date   Value\n",
       "0  2015-06-30  502300\n",
       "1  2015-05-31  501500\n",
       "2  2015-04-30  500100\n",
       "3  2015-03-31  495800\n",
       "4  2015-02-28  492700"
      ]
     },
     "execution_count": 27,
     "metadata": {},
     "output_type": "execute_result"
    }
   ],
   "source": [
    "df2"
   ]
  },
  {
   "cell_type": "code",
   "execution_count": 28,
   "metadata": {},
   "outputs": [
    {
     "name": "stdout",
     "output_type": "stream",
     "text": [
      "   0  502300\n",
      "0  1  501500\n",
      "1  2  500100\n",
      "2  3  495800\n",
      "3  4  492700\n"
     ]
    }
   ],
   "source": [
    "# Lets check the contents of the newly created csv files \n",
    "\n",
    "df3 = pd.read_csv('house_prices_values.csv')\n",
    "\n",
    "print(df3)"
   ]
  },
  {
   "cell_type": "markdown",
   "metadata": {
    "collapsed": true
   },
   "source": [
    "Panda assumes first row to have header information (column names). This is why we see indexing being assigned from second element."
   ]
  },
  {
   "cell_type": "code",
   "execution_count": 29,
   "metadata": {},
   "outputs": [],
   "source": [
    "# TODO:\n",
    "# Explore how can we avoid this?\n"
   ]
  },
  {
   "cell_type": "markdown",
   "metadata": {},
   "source": [
    "### Changing the  column header\n",
    "\n",
    " * Lets change the  column header \"value\" to 'House_Prices'. One simple approach is as follows:"
   ]
  },
  {
   "cell_type": "code",
   "execution_count": 30,
   "metadata": {},
   "outputs": [
    {
     "name": "stdout",
     "output_type": "stream",
     "text": [
      "         Date  House_Prices\n",
      "0  2015-06-30        502300\n",
      "1  2015-05-31        501500\n",
      "2  2015-04-30        500100\n",
      "3  2015-03-31        495800\n",
      "4  2015-02-28        492700\n"
     ]
    }
   ],
   "source": [
    "df.columns = ['Date','House_Prices']\n",
    "print(df.head())\n",
    "#print(df)"
   ]
  },
  {
   "cell_type": "markdown",
   "metadata": {},
   "source": [
    "### If we  wish to write data frame to a csv file without header"
   ]
  },
  {
   "cell_type": "code",
   "execution_count": 31,
   "metadata": {},
   "outputs": [],
   "source": [
    "df.to_csv('house_prices_no_header.csv', header=False)   # specfify header=False"
   ]
  },
  {
   "cell_type": "code",
   "execution_count": 32,
   "metadata": {},
   "outputs": [
    {
     "name": "stdout",
     "output_type": "stream",
     "text": [
      "   0  2015-06-30  502300\n",
      "0  1  2015-05-31  501500\n",
      "1  2  2015-04-30  500100\n",
      "2  3  2015-03-31  495800\n",
      "3  4  2015-02-28  492700\n"
     ]
    }
   ],
   "source": [
    "# Lets load and see the contents\n",
    "print(pd.read_csv('house_prices_no_header.csv'))"
   ]
  },
  {
   "cell_type": "markdown",
   "metadata": {},
   "source": [
    "### If the file has no headers, but we want them in the dataframe"
   ]
  },
  {
   "cell_type": "code",
   "execution_count": 33,
   "metadata": {},
   "outputs": [
    {
     "name": "stdout",
     "output_type": "stream",
     "text": [
      "         Date   House_Price\n",
      "0  2015-06-30        502300\n",
      "1  2015-05-31        501500\n",
      "2  2015-04-30        500100\n",
      "3  2015-03-31        495800\n",
      "4  2015-02-28        492700\n"
     ]
    }
   ],
   "source": [
    "df = pd.read_csv('house_prices_no_header.csv', names = ['Date',' House_Price'], index_col=0) \n",
    "\n",
    "print(df.head())"
   ]
  },
  {
   "cell_type": "markdown",
   "metadata": {},
   "source": [
    "## I/O with Pandas\n",
    "\n",
    " * pandas' various reader functions have many parameters allowing you to do things like skipping lines of the file, parsing dates, or specifying how to handle NAN/NULL data points.\n",
    " * There's also a set of writer functions for writing to a variety of formats (CSVs, HTML tables, JSON etc). \n",
    " * They function exactly as you'd expect and are typically called to_format."
   ]
  },
  {
   "cell_type": "markdown",
   "metadata": {},
   "source": [
    "## I/O with Excel\n",
    "\n",
    " * The  read_excel()  method can read Excel 2003 (.xls) and Excel 2007+ (.xlsx) files using the xlrd Python module. \n",
    " * The  to_excel()  instance method is used for saving a DataFrame to Excel. \n",
    " * Generally the semantics are similar to  working with  csv  data.\n",
    " * You can install the xlrd  library  via pip :  pip install xlrd"
   ]
  },
  {
   "cell_type": "markdown",
   "metadata": {},
   "source": [
    "### Let's write a dataframe to Excel. To write the football dataframe we created above:\n"
   ]
  },
  {
   "cell_type": "code",
   "execution_count": 34,
   "metadata": {},
   "outputs": [],
   "source": [
    "football.to_excel('football.xlsx', index=False)   # index=False is used to avoid writing header information"
   ]
  },
  {
   "cell_type": "markdown",
   "metadata": {},
   "source": [
    "Note that, we did not write the index from  the dataframe as it is meaningless. To verify the spreadsheet has been created, we could issue a directory listing command using the ! character (in Linux for example)\n",
    "!ls -l *.xlsx"
   ]
  },
  {
   "cell_type": "code",
   "execution_count": 35,
   "metadata": {},
   "outputs": [
    {
     "name": "stdout",
     "output_type": "stream",
     "text": [
      "-rw-rw-r-- 1 bhusan bhusan 5588 Mar 12 19:09 football.xlsx\n",
      "/home/bhusan/Data_Analytics/da2020/lecture3/on_git/pandas1\n"
     ]
    }
   ],
   "source": [
    "%%bash                          \n",
    "ls -l *.xlsx\n",
    "pwd"
   ]
  },
  {
   "cell_type": "markdown",
   "metadata": {},
   "source": [
    " * Jupyter notebook allows you to embed bash scripts. This can be very helpful to perform some simple operations (if you are familiar with bash scripting). For, example to check the present working directory or listing out all the files with extension .xlsx\n",
    " * You need to write %%bash symbol (often termed magic cell) which informs Jupyter that the statements following are bash scripts \n"
   ]
  },
  {
   "cell_type": "markdown",
   "metadata": {},
   "source": [
    "## Reading from Excel"
   ]
  },
  {
   "cell_type": "markdown",
   "metadata": {},
   "source": [
    " * In the most basic use-case, read_excel takes a path to an Excel file, and the sheet name indicating \n",
    "   which sheet to parse."
   ]
  },
  {
   "cell_type": "code",
   "execution_count": 36,
   "metadata": {},
   "outputs": [],
   "source": [
    "football_excel_file = pd.read_excel('football.xlsx', 'Sheet1')  # default is always Sheet1"
   ]
  },
  {
   "cell_type": "markdown",
   "metadata": {},
   "source": [
    " * Above command uses the Pandas read method to repopulate the football dataframe from sheet 1 of the spreadsheet."
   ]
  },
  {
   "cell_type": "code",
   "execution_count": 37,
   "metadata": {},
   "outputs": [
    {
     "name": "stdout",
     "output_type": "stream",
     "text": [
      "   year     team  wins  losses\n",
      "0  2010    Bears    11       5\n",
      "1  2011    Bears     8       8\n",
      "2  2012    Bears    10       6\n",
      "3  2011  Packers    15       1\n",
      "4  2012  Packers    11       5\n",
      "5  2010    Lions     6      10\n",
      "6  2011    Lions    10       6\n",
      "7  2012    Lions     4      12\n"
     ]
    }
   ],
   "source": [
    "print(football_excel_file)"
   ]
  },
  {
   "cell_type": "markdown",
   "metadata": {},
   "source": [
    "## Working with multiple sheets \n",
    " \n",
    " * To facilitate working with multiple sheets from the same file, the ExcelFile class can be used to wrap the file and can be passed into read_excel method.\n",
    " * There will be a performance benefit for reading multiple sheets as the file is read into memory only once."
   ]
  },
  {
   "cell_type": "code",
   "execution_count": 38,
   "metadata": {},
   "outputs": [],
   "source": [
    "two_sheets_xlsFile = pd.ExcelFile('inputs/multi_sheets.xlsx')"
   ]
  },
  {
   "cell_type": "markdown",
   "metadata": {},
   "source": [
    "Here, multi_sheets.xls is an excel file we have created that comprise of two sheets. We keep this file in the same directory.                                  \n",
    "                                  "
   ]
  },
  {
   "cell_type": "code",
   "execution_count": 39,
   "metadata": {},
   "outputs": [],
   "source": [
    "# Lets use just read the first sheet into a dataframe\n",
    "\n",
    "df_1 = pd.read_excel(two_sheets_xlsFile, 'Sheet1')"
   ]
  },
  {
   "cell_type": "code",
   "execution_count": 40,
   "metadata": {},
   "outputs": [
    {
     "name": "stdout",
     "output_type": "stream",
     "text": [
      "   year     team  wins  losses\n",
      "0  2010    Bears    11       5\n",
      "1  2011    Bears     8       8\n",
      "2  2012    Bears    10       6\n",
      "3  2011  Packers    15       1\n",
      "4  2012  Packers    11       5\n",
      "5  2010    Lions     6      10\n",
      "6  2011    Lions    10       6\n",
      "7  2012    Lions     4      12\n"
     ]
    }
   ],
   "source": [
    "print(df_1)"
   ]
  },
  {
   "cell_type": "code",
   "execution_count": 41,
   "metadata": {},
   "outputs": [],
   "source": [
    "# Lets read the second sheet into another dataframe\n",
    "\n",
    "df_2 = pd.read_excel(two_sheets_xlsFile, 'Sheet2')"
   ]
  },
  {
   "cell_type": "code",
   "execution_count": 42,
   "metadata": {},
   "outputs": [
    {
     "name": "stdout",
     "output_type": "stream",
     "text": [
      "   department  distinction  first class\n",
      "0          CS           20           50\n",
      "1          EE           14           56\n",
      "2  Mechanical           11           60\n",
      "3       Civil           23           57\n",
      "4       Music           17           54\n",
      "5     English           15           61\n",
      "6         Law           13           63\n"
     ]
    }
   ],
   "source": [
    "print(df_2)"
   ]
  },
  {
   "cell_type": "markdown",
   "metadata": {},
   "source": [
    " * Just for illustration purpose, I added the above information in Sheet2. \n",
    " * Basically, it tells us the information about number of students who got distinction and first class in various departments."
   ]
  },
  {
   "cell_type": "markdown",
   "metadata": {},
   "source": [
    "## The ExcelFile class can also be used as a context manager."
   ]
  },
  {
   "cell_type": "code",
   "execution_count": 43,
   "metadata": {},
   "outputs": [],
   "source": [
    "with pd.ExcelFile('inputs/multi_sheets.xlsx') as xls:\n",
    "    df_3 = pd.read_excel(xls, 'Sheet1')\n",
    "    df_4 = pd.read_excel(xls, 'Sheet2')\n",
    "\n",
    "#The sheet_names property will generate a list of the sheet names in the file."
   ]
  },
  {
   "cell_type": "code",
   "execution_count": 44,
   "metadata": {},
   "outputs": [
    {
     "name": "stdout",
     "output_type": "stream",
     "text": [
      "   year     team  wins  losses\n",
      "0  2010    Bears    11       5\n",
      "1  2011    Bears     8       8\n",
      "2  2012    Bears    10       6\n",
      "3  2011  Packers    15       1\n",
      "4  2012  Packers    11       5\n",
      "5  2010    Lions     6      10\n",
      "6  2011    Lions    10       6\n",
      "7  2012    Lions     4      12\n"
     ]
    }
   ],
   "source": [
    "print(df_3)"
   ]
  },
  {
   "cell_type": "code",
   "execution_count": 45,
   "metadata": {},
   "outputs": [
    {
     "data": {
      "text/html": [
       "<div>\n",
       "<style scoped>\n",
       "    .dataframe tbody tr th:only-of-type {\n",
       "        vertical-align: middle;\n",
       "    }\n",
       "\n",
       "    .dataframe tbody tr th {\n",
       "        vertical-align: top;\n",
       "    }\n",
       "\n",
       "    .dataframe thead th {\n",
       "        text-align: right;\n",
       "    }\n",
       "</style>\n",
       "<table border=\"1\" class=\"dataframe\">\n",
       "  <thead>\n",
       "    <tr style=\"text-align: right;\">\n",
       "      <th></th>\n",
       "      <th>department</th>\n",
       "      <th>distinction</th>\n",
       "      <th>first class</th>\n",
       "    </tr>\n",
       "  </thead>\n",
       "  <tbody>\n",
       "    <tr>\n",
       "      <td>0</td>\n",
       "      <td>CS</td>\n",
       "      <td>20</td>\n",
       "      <td>50</td>\n",
       "    </tr>\n",
       "    <tr>\n",
       "      <td>1</td>\n",
       "      <td>EE</td>\n",
       "      <td>14</td>\n",
       "      <td>56</td>\n",
       "    </tr>\n",
       "    <tr>\n",
       "      <td>2</td>\n",
       "      <td>Mechanical</td>\n",
       "      <td>11</td>\n",
       "      <td>60</td>\n",
       "    </tr>\n",
       "    <tr>\n",
       "      <td>3</td>\n",
       "      <td>Civil</td>\n",
       "      <td>23</td>\n",
       "      <td>57</td>\n",
       "    </tr>\n",
       "    <tr>\n",
       "      <td>4</td>\n",
       "      <td>Music</td>\n",
       "      <td>17</td>\n",
       "      <td>54</td>\n",
       "    </tr>\n",
       "    <tr>\n",
       "      <td>5</td>\n",
       "      <td>English</td>\n",
       "      <td>15</td>\n",
       "      <td>61</td>\n",
       "    </tr>\n",
       "    <tr>\n",
       "      <td>6</td>\n",
       "      <td>Law</td>\n",
       "      <td>13</td>\n",
       "      <td>63</td>\n",
       "    </tr>\n",
       "  </tbody>\n",
       "</table>\n",
       "</div>"
      ],
      "text/plain": [
       "   department  distinction  first class\n",
       "0          CS           20           50\n",
       "1          EE           14           56\n",
       "2  Mechanical           11           60\n",
       "3       Civil           23           57\n",
       "4       Music           17           54\n",
       "5     English           15           61\n",
       "6         Law           13           63"
      ]
     },
     "execution_count": 45,
     "metadata": {},
     "output_type": "execute_result"
    }
   ],
   "source": [
    "df_4"
   ]
  },
  {
   "cell_type": "markdown",
   "metadata": {},
   "source": [
    "### The primary use-case for an ExcelFile is parsing multiple sheets with different parameters\n",
    " * Example:  when Sheet1's format differs from Sheet2"
   ]
  },
  {
   "cell_type": "code",
   "execution_count": 46,
   "metadata": {},
   "outputs": [],
   "source": [
    "data = {}      # an empty dictionary\n",
    "\n",
    "with pd.ExcelFile('inputs/multi_sheets.xlsx') as xls:\n",
    "    data['Sheet1'] = pd.read_excel(xls, 'Sheet1', index_col=None, na_values=['NA'])\n",
    "    data['Sheet2'] = pd.read_excel(xls, 'Sheet2', index_col=0)\n"
   ]
  },
  {
   "cell_type": "markdown",
   "metadata": {},
   "source": [
    " * Note that if the same parsing parameters are used for all sheets, a list of sheet names can simply be passed to read_excel with no loss in performance."
   ]
  },
  {
   "cell_type": "code",
   "execution_count": 47,
   "metadata": {},
   "outputs": [
    {
     "data": {
      "text/plain": [
       "{'Sheet1':    year     team  wins  losses\n",
       " 0  2010    Bears    11       5\n",
       " 1  2011    Bears     8       8\n",
       " 2  2012    Bears    10       6\n",
       " 3  2011  Packers    15       1\n",
       " 4  2012  Packers    11       5\n",
       " 5  2010    Lions     6      10\n",
       " 6  2011    Lions    10       6\n",
       " 7  2012    Lions     4      12, 'Sheet2':             distinction  first class\n",
       " department                          \n",
       " CS                   20           50\n",
       " EE                   14           56\n",
       " Mechanical           11           60\n",
       " Civil                23           57\n",
       " Music                17           54\n",
       " English              15           61\n",
       " Law                  13           63}"
      ]
     },
     "execution_count": 47,
     "metadata": {},
     "output_type": "execute_result"
    }
   ],
   "source": [
    "# Lets print the dictionary we just created\n",
    "\n",
    "data"
   ]
  },
  {
   "cell_type": "markdown",
   "metadata": {},
   "source": [
    "### using the ExcelFile class when formats of sheets are same"
   ]
  },
  {
   "cell_type": "code",
   "execution_count": 48,
   "metadata": {},
   "outputs": [],
   "source": [
    "data = {}\n",
    "\n",
    "with pd.ExcelFile('inputs/multi_sheets.xlsx') as xls:\n",
    "    data['Sheet1'] = pd.read_excel(xls, 'Sheet1', index_col=None, na_values=['NA']) \n",
    "    data['Sheet2'] = pd.read_excel(xls, 'Sheet2', index_col=None, na_values=['NA'])\n"
   ]
  },
  {
   "cell_type": "code",
   "execution_count": 49,
   "metadata": {},
   "outputs": [
    {
     "name": "stdout",
     "output_type": "stream",
     "text": [
      "{'Sheet1':    year     team  wins  losses\n",
      "0  2010    Bears    11       5\n",
      "1  2011    Bears     8       8\n",
      "2  2012    Bears    10       6\n",
      "3  2011  Packers    15       1\n",
      "4  2012  Packers    11       5\n",
      "5  2010    Lions     6      10\n",
      "6  2011    Lions    10       6\n",
      "7  2012    Lions     4      12, 'Sheet2':    department  distinction  first class\n",
      "0          CS           20           50\n",
      "1          EE           14           56\n",
      "2  Mechanical           11           60\n",
      "3       Civil           23           57\n",
      "4       Music           17           54\n",
      "5     English           15           61\n",
      "6         Law           13           63}\n"
     ]
    }
   ],
   "source": [
    "print(data)            # uncomment and print the contents "
   ]
  },
  {
   "cell_type": "code",
   "execution_count": 50,
   "metadata": {},
   "outputs": [],
   "source": [
    "# Equivalent using the read_excel function can be\n",
    "\n",
    "data = pd.read_excel('inputs/multi_sheets.xlsx', ['Sheet1', 'Sheet2'], index_col=None, na_values=['NA'])"
   ]
  },
  {
   "cell_type": "code",
   "execution_count": 51,
   "metadata": {},
   "outputs": [
    {
     "data": {
      "text/plain": [
       "OrderedDict([('Sheet1',    year     team  wins  losses\n",
       "              0  2010    Bears    11       5\n",
       "              1  2011    Bears     8       8\n",
       "              2  2012    Bears    10       6\n",
       "              3  2011  Packers    15       1\n",
       "              4  2012  Packers    11       5\n",
       "              5  2010    Lions     6      10\n",
       "              6  2011    Lions    10       6\n",
       "              7  2012    Lions     4      12),\n",
       "             ('Sheet2',    department  distinction  first class\n",
       "              0          CS           20           50\n",
       "              1          EE           14           56\n",
       "              2  Mechanical           11           60\n",
       "              3       Civil           23           57\n",
       "              4       Music           17           54\n",
       "              5     English           15           61\n",
       "              6         Law           13           63)])"
      ]
     },
     "execution_count": 51,
     "metadata": {},
     "output_type": "execute_result"
    }
   ],
   "source": [
    "data"
   ]
  },
  {
   "cell_type": "markdown",
   "metadata": {},
   "source": [
    "### Working with multiple sheets\n",
    "\n",
    " * The second argument is sheetname, not to be confused with ExcelFile.sheet_names.\n",
    " * An ExcelFile’s attribute sheet_names provides access to a list of sheets.\n",
    " * The arguments sheetname allows specifying the sheet or sheets to read.\n",
    " * The default value for sheetname is 0, indicating to read the first sheet\n",
    " * Pass a string to refer to the name of a particular sheet in the workbook.\n",
    " * Pass an integer to refer to the index of a sheet. Indices follow Python convention, beginning at 0.\n",
    " * Pass a list of either strings or integers, to return a dictionary of specified sheets.\n",
    " * Detailed documentation online http://pandas.pydata.org/pandas-docs/stable/io.html#excel-files\n"
   ]
  },
  {
   "cell_type": "code",
   "execution_count": 52,
   "metadata": {},
   "outputs": [
    {
     "name": "stdout",
     "output_type": "stream",
     "text": [
      "done\n"
     ]
    }
   ],
   "source": [
    "print('done')"
   ]
  },
  {
   "cell_type": "code",
   "execution_count": null,
   "metadata": {},
   "outputs": [],
   "source": []
  }
 ],
 "metadata": {
  "kernelspec": {
   "display_name": "Python 3",
   "language": "python",
   "name": "python3"
  },
  "language_info": {
   "codemirror_mode": {
    "name": "ipython",
    "version": 3
   },
   "file_extension": ".py",
   "mimetype": "text/x-python",
   "name": "python",
   "nbconvert_exporter": "python",
   "pygments_lexer": "ipython3",
   "version": "3.7.4"
  }
 },
 "nbformat": 4,
 "nbformat_minor": 2
}
